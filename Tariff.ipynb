{
 "cells": [
  {
   "cell_type": "markdown",
   "metadata": {},
   "source": [
    "# Рекомендация тарифов"
   ]
  },
  {
   "cell_type": "markdown",
   "metadata": {},
   "source": [
    "## Открываем и изучаем файл"
   ]
  },
  {
   "cell_type": "code",
   "execution_count": 1,
   "metadata": {},
   "outputs": [
    {
     "name": "stderr",
     "output_type": "stream",
     "text": [
      "Matplotlib is building the font cache; this may take a moment.\n"
     ]
    }
   ],
   "source": [
    "import pandas as pd\n",
    "import numpy as np\n",
    "import matplotlib.pyplot as plt\n",
    "import seaborn as sns\n",
    "\n",
    "from sklearn.model_selection import train_test_split\n",
    "from sklearn.metrics import ConfusionMatrixDisplay, accuracy_score, precision_score, recall_score, f1_score, confusion_matrix\n",
    "from sklearn.dummy import DummyClassifier\n",
    "from sklearn.tree import DecisionTreeClassifier, plot_tree\n",
    "from sklearn.ensemble import RandomForestClassifier\n",
    "from sklearn.linear_model import LinearRegression, LogisticRegression\n",
    "\n",
    "\n"
   ]
  },
  {
   "cell_type": "code",
   "execution_count": 2,
   "metadata": {},
   "outputs": [],
   "source": [
    "df = pd.read_csv('/datasets/users_behavior.csv')"
   ]
  },
  {
   "cell_type": "code",
   "execution_count": 3,
   "metadata": {
    "scrolled": true
   },
   "outputs": [
    {
     "name": "stdout",
     "output_type": "stream",
     "text": [
      "<class 'pandas.core.frame.DataFrame'>\n",
      "RangeIndex: 3214 entries, 0 to 3213\n",
      "Data columns (total 5 columns):\n",
      " #   Column    Non-Null Count  Dtype  \n",
      "---  ------    --------------  -----  \n",
      " 0   calls     3214 non-null   float64\n",
      " 1   minutes   3214 non-null   float64\n",
      " 2   messages  3214 non-null   float64\n",
      " 3   mb_used   3214 non-null   float64\n",
      " 4   is_ultra  3214 non-null   int64  \n",
      "dtypes: float64(4), int64(1)\n",
      "memory usage: 125.7 KB\n"
     ]
    }
   ],
   "source": [
    "df.info()"
   ]
  },
  {
   "cell_type": "code",
   "execution_count": 4,
   "metadata": {
    "scrolled": false
   },
   "outputs": [
    {
     "data": {
      "text/html": [
       "<div>\n",
       "<style scoped>\n",
       "    .dataframe tbody tr th:only-of-type {\n",
       "        vertical-align: middle;\n",
       "    }\n",
       "\n",
       "    .dataframe tbody tr th {\n",
       "        vertical-align: top;\n",
       "    }\n",
       "\n",
       "    .dataframe thead th {\n",
       "        text-align: right;\n",
       "    }\n",
       "</style>\n",
       "<table border=\"1\" class=\"dataframe\">\n",
       "  <thead>\n",
       "    <tr style=\"text-align: right;\">\n",
       "      <th></th>\n",
       "      <th>calls</th>\n",
       "      <th>minutes</th>\n",
       "      <th>messages</th>\n",
       "      <th>mb_used</th>\n",
       "      <th>is_ultra</th>\n",
       "    </tr>\n",
       "  </thead>\n",
       "  <tbody>\n",
       "    <tr>\n",
       "      <th>0</th>\n",
       "      <td>40.0</td>\n",
       "      <td>311.90</td>\n",
       "      <td>83.0</td>\n",
       "      <td>19915.42</td>\n",
       "      <td>0</td>\n",
       "    </tr>\n",
       "    <tr>\n",
       "      <th>1</th>\n",
       "      <td>85.0</td>\n",
       "      <td>516.75</td>\n",
       "      <td>56.0</td>\n",
       "      <td>22696.96</td>\n",
       "      <td>0</td>\n",
       "    </tr>\n",
       "    <tr>\n",
       "      <th>2</th>\n",
       "      <td>77.0</td>\n",
       "      <td>467.66</td>\n",
       "      <td>86.0</td>\n",
       "      <td>21060.45</td>\n",
       "      <td>0</td>\n",
       "    </tr>\n",
       "    <tr>\n",
       "      <th>3</th>\n",
       "      <td>106.0</td>\n",
       "      <td>745.53</td>\n",
       "      <td>81.0</td>\n",
       "      <td>8437.39</td>\n",
       "      <td>1</td>\n",
       "    </tr>\n",
       "    <tr>\n",
       "      <th>4</th>\n",
       "      <td>66.0</td>\n",
       "      <td>418.74</td>\n",
       "      <td>1.0</td>\n",
       "      <td>14502.75</td>\n",
       "      <td>0</td>\n",
       "    </tr>\n",
       "  </tbody>\n",
       "</table>\n",
       "</div>"
      ],
      "text/plain": [
       "   calls  minutes  messages   mb_used  is_ultra\n",
       "0   40.0   311.90      83.0  19915.42         0\n",
       "1   85.0   516.75      56.0  22696.96         0\n",
       "2   77.0   467.66      86.0  21060.45         0\n",
       "3  106.0   745.53      81.0   8437.39         1\n",
       "4   66.0   418.74       1.0  14502.75         0"
      ]
     },
     "execution_count": 4,
     "metadata": {},
     "output_type": "execute_result"
    }
   ],
   "source": [
    "df.head()"
   ]
  },
  {
   "cell_type": "code",
   "execution_count": 5,
   "metadata": {},
   "outputs": [
    {
     "data": {
      "text/plain": [
       "0"
      ]
     },
     "execution_count": 5,
     "metadata": {},
     "output_type": "execute_result"
    }
   ],
   "source": [
    "df.duplicated().sum()"
   ]
  },
  {
   "cell_type": "code",
   "execution_count": 6,
   "metadata": {},
   "outputs": [
    {
     "data": {
      "text/plain": [
       "0    2229\n",
       "1     985\n",
       "Name: is_ultra, dtype: int64"
      ]
     },
     "execution_count": 6,
     "metadata": {},
     "output_type": "execute_result"
    }
   ],
   "source": [
    "df['is_ultra'].value_counts()"
   ]
  },
  {
   "cell_type": "code",
   "execution_count": 7,
   "metadata": {},
   "outputs": [
    {
     "data": {
      "text/html": [
       "<div>\n",
       "<style scoped>\n",
       "    .dataframe tbody tr th:only-of-type {\n",
       "        vertical-align: middle;\n",
       "    }\n",
       "\n",
       "    .dataframe tbody tr th {\n",
       "        vertical-align: top;\n",
       "    }\n",
       "\n",
       "    .dataframe thead th {\n",
       "        text-align: right;\n",
       "    }\n",
       "</style>\n",
       "<table border=\"1\" class=\"dataframe\">\n",
       "  <thead>\n",
       "    <tr style=\"text-align: right;\">\n",
       "      <th></th>\n",
       "      <th>calls</th>\n",
       "      <th>minutes</th>\n",
       "      <th>messages</th>\n",
       "      <th>mb_used</th>\n",
       "      <th>is_ultra</th>\n",
       "    </tr>\n",
       "  </thead>\n",
       "  <tbody>\n",
       "    <tr>\n",
       "      <th>calls</th>\n",
       "      <td>1.000000</td>\n",
       "      <td>0.982083</td>\n",
       "      <td>0.177385</td>\n",
       "      <td>0.286442</td>\n",
       "      <td>0.207122</td>\n",
       "    </tr>\n",
       "    <tr>\n",
       "      <th>minutes</th>\n",
       "      <td>0.982083</td>\n",
       "      <td>1.000000</td>\n",
       "      <td>0.173110</td>\n",
       "      <td>0.280967</td>\n",
       "      <td>0.206955</td>\n",
       "    </tr>\n",
       "    <tr>\n",
       "      <th>messages</th>\n",
       "      <td>0.177385</td>\n",
       "      <td>0.173110</td>\n",
       "      <td>1.000000</td>\n",
       "      <td>0.195721</td>\n",
       "      <td>0.203830</td>\n",
       "    </tr>\n",
       "    <tr>\n",
       "      <th>mb_used</th>\n",
       "      <td>0.286442</td>\n",
       "      <td>0.280967</td>\n",
       "      <td>0.195721</td>\n",
       "      <td>1.000000</td>\n",
       "      <td>0.198568</td>\n",
       "    </tr>\n",
       "    <tr>\n",
       "      <th>is_ultra</th>\n",
       "      <td>0.207122</td>\n",
       "      <td>0.206955</td>\n",
       "      <td>0.203830</td>\n",
       "      <td>0.198568</td>\n",
       "      <td>1.000000</td>\n",
       "    </tr>\n",
       "  </tbody>\n",
       "</table>\n",
       "</div>"
      ],
      "text/plain": [
       "             calls   minutes  messages   mb_used  is_ultra\n",
       "calls     1.000000  0.982083  0.177385  0.286442  0.207122\n",
       "minutes   0.982083  1.000000  0.173110  0.280967  0.206955\n",
       "messages  0.177385  0.173110  1.000000  0.195721  0.203830\n",
       "mb_used   0.286442  0.280967  0.195721  1.000000  0.198568\n",
       "is_ultra  0.207122  0.206955  0.203830  0.198568  1.000000"
      ]
     },
     "metadata": {},
     "output_type": "display_data"
    }
   ],
   "source": [
    "corel = df.corr()\n",
    "display(corel)"
   ]
  },
  {
   "cell_type": "code",
   "execution_count": 8,
   "metadata": {
    "scrolled": true
   },
   "outputs": [
    {
     "data": {
      "text/html": [
       "<div>\n",
       "<style scoped>\n",
       "    .dataframe tbody tr th:only-of-type {\n",
       "        vertical-align: middle;\n",
       "    }\n",
       "\n",
       "    .dataframe tbody tr th {\n",
       "        vertical-align: top;\n",
       "    }\n",
       "\n",
       "    .dataframe thead th {\n",
       "        text-align: right;\n",
       "    }\n",
       "</style>\n",
       "<table border=\"1\" class=\"dataframe\">\n",
       "  <thead>\n",
       "    <tr style=\"text-align: right;\">\n",
       "      <th></th>\n",
       "      <th>calls</th>\n",
       "      <th>minutes</th>\n",
       "      <th>messages</th>\n",
       "      <th>mb_used</th>\n",
       "      <th>is_ultra</th>\n",
       "    </tr>\n",
       "  </thead>\n",
       "  <tbody>\n",
       "    <tr>\n",
       "      <th>count</th>\n",
       "      <td>3214.000000</td>\n",
       "      <td>3214.000000</td>\n",
       "      <td>3214.000000</td>\n",
       "      <td>3214.000000</td>\n",
       "      <td>3214.000000</td>\n",
       "    </tr>\n",
       "    <tr>\n",
       "      <th>mean</th>\n",
       "      <td>63.038892</td>\n",
       "      <td>438.208787</td>\n",
       "      <td>38.281269</td>\n",
       "      <td>17207.673836</td>\n",
       "      <td>0.306472</td>\n",
       "    </tr>\n",
       "    <tr>\n",
       "      <th>std</th>\n",
       "      <td>33.236368</td>\n",
       "      <td>234.569872</td>\n",
       "      <td>36.148326</td>\n",
       "      <td>7570.968246</td>\n",
       "      <td>0.461100</td>\n",
       "    </tr>\n",
       "    <tr>\n",
       "      <th>min</th>\n",
       "      <td>0.000000</td>\n",
       "      <td>0.000000</td>\n",
       "      <td>0.000000</td>\n",
       "      <td>0.000000</td>\n",
       "      <td>0.000000</td>\n",
       "    </tr>\n",
       "    <tr>\n",
       "      <th>25%</th>\n",
       "      <td>40.000000</td>\n",
       "      <td>274.575000</td>\n",
       "      <td>9.000000</td>\n",
       "      <td>12491.902500</td>\n",
       "      <td>0.000000</td>\n",
       "    </tr>\n",
       "    <tr>\n",
       "      <th>50%</th>\n",
       "      <td>62.000000</td>\n",
       "      <td>430.600000</td>\n",
       "      <td>30.000000</td>\n",
       "      <td>16943.235000</td>\n",
       "      <td>0.000000</td>\n",
       "    </tr>\n",
       "    <tr>\n",
       "      <th>75%</th>\n",
       "      <td>82.000000</td>\n",
       "      <td>571.927500</td>\n",
       "      <td>57.000000</td>\n",
       "      <td>21424.700000</td>\n",
       "      <td>1.000000</td>\n",
       "    </tr>\n",
       "    <tr>\n",
       "      <th>max</th>\n",
       "      <td>244.000000</td>\n",
       "      <td>1632.060000</td>\n",
       "      <td>224.000000</td>\n",
       "      <td>49745.730000</td>\n",
       "      <td>1.000000</td>\n",
       "    </tr>\n",
       "  </tbody>\n",
       "</table>\n",
       "</div>"
      ],
      "text/plain": [
       "             calls      minutes     messages       mb_used     is_ultra\n",
       "count  3214.000000  3214.000000  3214.000000   3214.000000  3214.000000\n",
       "mean     63.038892   438.208787    38.281269  17207.673836     0.306472\n",
       "std      33.236368   234.569872    36.148326   7570.968246     0.461100\n",
       "min       0.000000     0.000000     0.000000      0.000000     0.000000\n",
       "25%      40.000000   274.575000     9.000000  12491.902500     0.000000\n",
       "50%      62.000000   430.600000    30.000000  16943.235000     0.000000\n",
       "75%      82.000000   571.927500    57.000000  21424.700000     1.000000\n",
       "max     244.000000  1632.060000   224.000000  49745.730000     1.000000"
      ]
     },
     "execution_count": 8,
     "metadata": {},
     "output_type": "execute_result"
    }
   ],
   "source": [
    "df.describe()"
   ]
  },
  {
   "cell_type": "code",
   "execution_count": 9,
   "metadata": {},
   "outputs": [
    {
     "data": {
      "text/html": [
       "<div>\n",
       "<style scoped>\n",
       "    .dataframe tbody tr th:only-of-type {\n",
       "        vertical-align: middle;\n",
       "    }\n",
       "\n",
       "    .dataframe tbody tr th {\n",
       "        vertical-align: top;\n",
       "    }\n",
       "\n",
       "    .dataframe thead th {\n",
       "        text-align: right;\n",
       "    }\n",
       "</style>\n",
       "<table border=\"1\" class=\"dataframe\">\n",
       "  <thead>\n",
       "    <tr style=\"text-align: right;\">\n",
       "      <th></th>\n",
       "      <th>calls</th>\n",
       "      <th>minutes</th>\n",
       "      <th>messages</th>\n",
       "      <th>mb_used</th>\n",
       "      <th>is_ultra</th>\n",
       "    </tr>\n",
       "  </thead>\n",
       "  <tbody>\n",
       "    <tr>\n",
       "      <th>3014</th>\n",
       "      <td>57.0</td>\n",
       "      <td>368.96</td>\n",
       "      <td>0.0</td>\n",
       "      <td>16890.11</td>\n",
       "      <td>0</td>\n",
       "    </tr>\n",
       "    <tr>\n",
       "      <th>1327</th>\n",
       "      <td>2.0</td>\n",
       "      <td>10.59</td>\n",
       "      <td>50.0</td>\n",
       "      <td>21507.94</td>\n",
       "      <td>0</td>\n",
       "    </tr>\n",
       "    <tr>\n",
       "      <th>2483</th>\n",
       "      <td>90.0</td>\n",
       "      <td>603.11</td>\n",
       "      <td>6.0</td>\n",
       "      <td>16294.44</td>\n",
       "      <td>0</td>\n",
       "    </tr>\n",
       "    <tr>\n",
       "      <th>2089</th>\n",
       "      <td>86.0</td>\n",
       "      <td>649.85</td>\n",
       "      <td>61.0</td>\n",
       "      <td>29374.16</td>\n",
       "      <td>1</td>\n",
       "    </tr>\n",
       "    <tr>\n",
       "      <th>1255</th>\n",
       "      <td>14.0</td>\n",
       "      <td>96.95</td>\n",
       "      <td>37.0</td>\n",
       "      <td>17190.83</td>\n",
       "      <td>0</td>\n",
       "    </tr>\n",
       "  </tbody>\n",
       "</table>\n",
       "</div>"
      ],
      "text/plain": [
       "      calls  minutes  messages   mb_used  is_ultra\n",
       "3014   57.0   368.96       0.0  16890.11         0\n",
       "1327    2.0    10.59      50.0  21507.94         0\n",
       "2483   90.0   603.11       6.0  16294.44         0\n",
       "2089   86.0   649.85      61.0  29374.16         1\n",
       "1255   14.0    96.95      37.0  17190.83         0"
      ]
     },
     "execution_count": 9,
     "metadata": {},
     "output_type": "execute_result"
    }
   ],
   "source": [
    "df.sample(5)"
   ]
  },
  {
   "cell_type": "markdown",
   "metadata": {},
   "source": [
    "## Разбиваем данные на выборки"
   ]
  },
  {
   "cell_type": "markdown",
   "metadata": {},
   "source": [
    "###  Разделим выборку на обучающую, валидационную и тестовую\n"
   ]
  },
  {
   "cell_type": "markdown",
   "metadata": {},
   "source": [
    "Для разделения выборки будем соблюдать пропорции 60 : 20 : 20 "
   ]
  },
  {
   "cell_type": "code",
   "execution_count": 10,
   "metadata": {},
   "outputs": [],
   "source": [
    "features = df.drop(['is_ultra'], axis=1)\n",
    "target = df['is_ultra'] "
   ]
  },
  {
   "cell_type": "code",
   "execution_count": 11,
   "metadata": {
    "scrolled": true
   },
   "outputs": [
    {
     "name": "stdout",
     "output_type": "stream",
     "text": [
      "<class 'pandas.core.frame.DataFrame'>\n",
      "RangeIndex: 3214 entries, 0 to 3213\n",
      "Data columns (total 4 columns):\n",
      " #   Column    Non-Null Count  Dtype  \n",
      "---  ------    --------------  -----  \n",
      " 0   calls     3214 non-null   float64\n",
      " 1   minutes   3214 non-null   float64\n",
      " 2   messages  3214 non-null   float64\n",
      " 3   mb_used   3214 non-null   float64\n",
      "dtypes: float64(4)\n",
      "memory usage: 100.6 KB\n"
     ]
    }
   ],
   "source": [
    "features.info()"
   ]
  },
  {
   "cell_type": "code",
   "execution_count": 12,
   "metadata": {},
   "outputs": [
    {
     "data": {
      "text/plain": [
       "0    0\n",
       "1    0\n",
       "2    0\n",
       "3    1\n",
       "4    0\n",
       "Name: is_ultra, dtype: int64"
      ]
     },
     "execution_count": 12,
     "metadata": {},
     "output_type": "execute_result"
    }
   ],
   "source": [
    "target.head()"
   ]
  },
  {
   "cell_type": "code",
   "execution_count": 13,
   "metadata": {},
   "outputs": [],
   "source": [
    "# делю выборку на тестовую и иную (обучающую/валидационную) 20/80\n",
    "features_working, features_test, target_working, target_test = train_test_split(\n",
    "    features, target, test_size=0.20, random_state=12345, stratify=target)"
   ]
  },
  {
   "cell_type": "code",
   "execution_count": 14,
   "metadata": {},
   "outputs": [],
   "source": [
    "# делю иную выборку на обучающую и валидационную  60/20\n",
    "features_train, features_valid, target_train, target_valid = train_test_split(\n",
    "    features_working, target_working, test_size=0.25, random_state=12345, stratify=target_working)"
   ]
  },
  {
   "cell_type": "code",
   "execution_count": 15,
   "metadata": {},
   "outputs": [
    {
     "name": "stdout",
     "output_type": "stream",
     "text": [
      "Количество строк в target_test по классам: [446 197]\n",
      "Количество строк в target_valid по классам: [446 197]\n",
      "Количество строк в target_train по классам: [1337  591]\n"
     ]
    }
   ],
   "source": [
    "print(f\"Количество строк в target_test по классам: {np.bincount(target_test)}\")\n",
    "print(f\"Количество строк в target_valid по классам: {np.bincount(target_valid)}\")\n",
    "print(f\"Количество строк в target_train по классам: {np.bincount(target_train)}\")"
   ]
  },
  {
   "cell_type": "code",
   "execution_count": 16,
   "metadata": {},
   "outputs": [
    {
     "data": {
      "text/plain": [
       "((1928, 4), (643, 4), (643, 4))"
      ]
     },
     "execution_count": 16,
     "metadata": {},
     "output_type": "execute_result"
    }
   ],
   "source": [
    "features_train.shape, features_valid.shape, features_test.shape\n"
   ]
  },
  {
   "cell_type": "code",
   "execution_count": 17,
   "metadata": {},
   "outputs": [
    {
     "data": {
      "text/plain": [
       "((1928,), (643,), (643,))"
      ]
     },
     "execution_count": 17,
     "metadata": {},
     "output_type": "execute_result"
    }
   ],
   "source": [
    "target_train.shape, target_valid.shape, target_test.shape"
   ]
  },
  {
   "cell_type": "code",
   "execution_count": 18,
   "metadata": {},
   "outputs": [
    {
     "name": "stdout",
     "output_type": "stream",
     "text": [
      "Модель будет учится на выборке, что составляет 60 процентов от выборки\n"
     ]
    }
   ],
   "source": [
    "print(f'Модель будет учится на выборке, что составляет {round(features_train.shape[0]/df.shape[0] * 100)} процентов от выборки' )"
   ]
  },
  {
   "cell_type": "code",
   "execution_count": 19,
   "metadata": {},
   "outputs": [
    {
     "name": "stdout",
     "output_type": "stream",
     "text": [
      "Модель будет тестироваться на выборке, что составляет 20 процентов от выборки\n"
     ]
    }
   ],
   "source": [
    "print(f'Модель будет тестироваться на выборке, что составляет {round(features_valid.shape[0]/df.shape[0] * 100)} процентов от выборки' )"
   ]
  },
  {
   "cell_type": "code",
   "execution_count": 20,
   "metadata": {},
   "outputs": [
    {
     "name": "stdout",
     "output_type": "stream",
     "text": [
      "Модель будет валидироваться на выборке, что составляет 20 процентов от выборки\n"
     ]
    }
   ],
   "source": [
    "print(f'Модель будет валидироваться на выборке, что составляет {round(features_test.shape[0]/df.shape[0] * 100)} процентов от выборки' )"
   ]
  },
  {
   "cell_type": "code",
   "execution_count": 21,
   "metadata": {},
   "outputs": [
    {
     "data": {
      "text/plain": [
       "((1928,), (643,), (643,))"
      ]
     },
     "execution_count": 21,
     "metadata": {},
     "output_type": "execute_result"
    }
   ],
   "source": [
    "target_train.shape, target_valid.shape, target_test.shape"
   ]
  },
  {
   "cell_type": "markdown",
   "metadata": {},
   "source": [
    "* подготовленны данные для обучения модели: features_train, target_train\n",
    "* подготовленны данные для валидации модели: features_valid, target_valid\n",
    "* подготовлены тестовые данные: features_test, target_test"
   ]
  },
  {
   "cell_type": "markdown",
   "metadata": {},
   "source": [
    "### Изучим модель - дерево решений"
   ]
  },
  {
   "cell_type": "code",
   "execution_count": 22,
   "metadata": {
    "scrolled": true
   },
   "outputs": [
    {
     "name": "stdout",
     "output_type": "stream",
     "text": [
      "max_depth = 1 : 0.7480559875583204\n",
      "max_depth = 2 : 0.7853810264385692\n",
      "max_depth = 3 : 0.7993779160186625\n",
      "max_depth = 4 : 0.7838258164852255\n",
      "max_depth = 5 : 0.7962674961119751\n",
      "max_depth = 6 : 0.7978227060653188\n",
      "max_depth = 7 : 0.7822706065318819\n",
      "max_depth = 8 : 0.7791601866251944\n",
      "max_depth = 9 : 0.7822706065318819\n",
      "max_depth = 10 : 0.7822706065318819\n",
      "Accuracy наилучшей модели на шаге 3 на тестовой выборке: 0.7993779160186625\n"
     ]
    }
   ],
   "source": [
    "best_model_dt = None\n",
    "best_result = 0\n",
    "best_depth = 0\n",
    "\n",
    "depth = []\n",
    "accuracy_train_list = []\n",
    "accuracy_test_list = []\n",
    "\n",
    "for est in range(1, 11):\n",
    "    model = DecisionTreeClassifier(random_state=12345, max_depth=est) \n",
    "    fit = model.fit(features_train, target_train)\n",
    "    \n",
    "    predictions_train = model.predict(features_train)\n",
    "    predictions_test = model.predict(features_test)\n",
    "    \n",
    "    accuracy_train = accuracy_score(target_train, predictions_train)\n",
    "    accuracy_test = accuracy_score(target_test, predictions_test)\n",
    "    \n",
    "    print(\"max_depth =\", est, \": \", end='')\n",
    "    print(accuracy_test)\n",
    "    \n",
    "    depth.append(est)\n",
    "    accuracy_train_list.append(accuracy_train)\n",
    "    accuracy_test_list.append(accuracy_test)\n",
    "    \n",
    "       \n",
    "    if accuracy_test > best_result:\n",
    "        best_model_dt = model\n",
    "        best_result = accuracy_test\n",
    "        best_depth = est\n",
    "        \n",
    "\n",
    "print(f\"Accuracy наилучшей модели на шаге {best_depth} на тестовой выборке:\", best_result)"
   ]
  },
  {
   "cell_type": "code",
   "execution_count": 23,
   "metadata": {
    "scrolled": true
   },
   "outputs": [
    {
     "data": {
      "image/png": "[encoded data removed]",
      "text/plain": [
       "<Figure size 864x432 with 1 Axes>"
      ]
     },
     "metadata": {
      "needs_background": "light"
     },
     "output_type": "display_data"
    }
   ],
   "source": [
    "plt.figure(figsize=(12, 6))\n",
    "plt.grid(True)\n",
    "plt.plot(depth, accuracy_train_list)\n",
    "plt.plot(depth, accuracy_test_list)\n",
    "plt.xlabel('Глубина дерева', color = 'Orange', fontsize=15)\n",
    "plt.ylabel('Точность модели', color = 'Orange', fontsize=15)\n",
    "plt.title('Взаимосвязь \"дерево решений\" от глубины дерева на обучающей и тестовой выборках', \n",
    "          color = 'Blue', fontsize=16)\n",
    "plt.legend(['Обучающая выборка', 'Тестовая выборка'])\n",
    "plt.show()"
   ]
  },
  {
   "cell_type": "code",
   "execution_count": 24,
   "metadata": {
    "scrolled": true
   },
   "outputs": [
    {
     "data": {
      "image/png": "[encoded data removed]",
      "text/plain": [
       "<Figure size 1440x720 with 1 Axes>"
      ]
     },
     "metadata": {
      "needs_background": "light"
     },
     "output_type": "display_data"
    }
   ],
   "source": [
    "plt.figure(figsize=(20, 10))\n",
    "\n",
    "plot_tree(fit, max_depth=3, fontsize=14)\n",
    "plt.show()"
   ]
  },
  {
   "cell_type": "code",
   "execution_count": 25,
   "metadata": {
    "scrolled": true
   },
   "outputs": [
    {
     "data": {
      "image/png": "[encoded data removed]",
      "text/plain": [
       "<Figure size 1440x720 with 1 Axes>"
      ]
     },
     "metadata": {
      "needs_background": "light"
     },
     "output_type": "display_data"
    }
   ],
   "source": [
    "plt.figure(figsize=(20, 10))\n",
    "\n",
    "plot_tree(fit, feature_names=features.columns.values, \n",
    "               class_names=['Smart','Ultra'],\n",
    "               filled=True, max_depth=3, fontsize=14)\n",
    "plt.show()"
   ]
  },
  {
   "cell_type": "markdown",
   "metadata": {},
   "source": [
    "#### Вывод Accuracy наилучшей модели на шаге 3 на тестовой выборке: 0.7993779160186625"
   ]
  },
  {
   "cell_type": "markdown",
   "metadata": {},
   "source": [
    "### Изучим модель - случайный лес"
   ]
  },
  {
   "cell_type": "code",
   "execution_count": 26,
   "metadata": {},
   "outputs": [
    {
     "name": "stdout",
     "output_type": "stream",
     "text": [
      "max_depth = 1 : 0.76049766718507\n",
      "max_depth = 2 : 0.7900466562986003\n",
      "max_depth = 3 : 0.7744945567651633\n",
      "max_depth = 4 : 0.7853810264385692\n",
      "max_depth = 5 : 0.7900466562986003\n",
      "max_depth = 6 : 0.7962674961119751\n",
      "max_depth = 7 : 0.7807153965785381\n",
      "max_depth = 8 : 0.7807153965785381\n",
      "max_depth = 9 : 0.7807153965785381\n",
      "max_depth = 10 : 0.7776049766718507\n",
      "max_depth = 11 : 0.7527216174183515\n",
      "max_depth = 1 : 0.749611197511664\n",
      "max_depth = 2 : 0.776049766718507\n",
      "max_depth = 3 : 0.7853810264385692\n",
      "max_depth = 4 : 0.7931570762052877\n",
      "max_depth = 5 : 0.8087091757387247\n",
      "max_depth = 6 : 0.8055987558320373\n",
      "max_depth = 7 : 0.8118195956454122\n",
      "max_depth = 8 : 0.8087091757387247\n",
      "max_depth = 9 : 0.8087091757387247\n",
      "max_depth = 10 : 0.807153965785381\n",
      "max_depth = 11 : 0.8133748055987559\n",
      "max_depth = 1 : 0.744945567651633\n",
      "max_depth = 2 : 0.7822706065318819\n",
      "max_depth = 3 : 0.7962674961119751\n",
      "max_depth = 4 : 0.7947122861586314\n",
      "max_depth = 5 : 0.8102643856920684\n",
      "max_depth = 6 : 0.8118195956454122\n",
      "max_depth = 7 : 0.8118195956454122\n",
      "max_depth = 8 : 0.8164852255054432\n",
      "max_depth = 9 : 0.8133748055987559\n",
      "max_depth = 10 : 0.8180404354587869\n",
      "max_depth = 11 : 0.8180404354587869\n",
      "max_depth = 1 : 0.744945567651633\n",
      "max_depth = 2 : 0.7838258164852255\n",
      "max_depth = 3 : 0.7993779160186625\n",
      "max_depth = 4 : 0.7993779160186625\n",
      "max_depth = 5 : 0.8087091757387247\n",
      "max_depth = 6 : 0.8149300155520995\n",
      "max_depth = 7 : 0.8164852255054432\n",
      "max_depth = 8 : 0.8164852255054432\n",
      "max_depth = 9 : 0.8149300155520995\n",
      "max_depth = 10 : 0.8164852255054432\n",
      "max_depth = 11 : 0.8133748055987559\n",
      "max_depth = 1 : 0.744945567651633\n",
      "max_depth = 2 : 0.7853810264385692\n",
      "max_depth = 3 : 0.7978227060653188\n",
      "max_depth = 4 : 0.7993779160186625\n",
      "max_depth = 5 : 0.8055987558320373\n",
      "max_depth = 6 : 0.8149300155520995\n",
      "max_depth = 7 : 0.8149300155520995\n",
      "max_depth = 8 : 0.8180404354587869\n",
      "max_depth = 9 : 0.8180404354587869\n",
      "max_depth = 10 : 0.8180404354587869\n",
      "max_depth = 11 : 0.8133748055987559\n",
      "max_depth = 1 : 0.7465007776049767\n",
      "max_depth = 2 : 0.7838258164852255\n",
      "max_depth = 3 : 0.7978227060653188\n",
      "max_depth = 4 : 0.8009331259720062\n",
      "max_depth = 5 : 0.80248833592535\n",
      "max_depth = 6 : 0.8180404354587869\n",
      "max_depth = 7 : 0.8164852255054432\n",
      "max_depth = 8 : 0.8164852255054432\n",
      "max_depth = 9 : 0.8180404354587869\n",
      "max_depth = 10 : 0.8180404354587869\n",
      "max_depth = 11 : 0.8242612752721618\n",
      "max_depth = 1 : 0.749611197511664\n",
      "max_depth = 2 : 0.7869362363919129\n",
      "max_depth = 3 : 0.7978227060653188\n",
      "max_depth = 4 : 0.8009331259720062\n",
      "max_depth = 5 : 0.807153965785381\n",
      "max_depth = 6 : 0.8149300155520995\n",
      "max_depth = 7 : 0.8149300155520995\n",
      "max_depth = 8 : 0.8149300155520995\n",
      "max_depth = 9 : 0.8149300155520995\n",
      "max_depth = 10 : 0.8180404354587869\n",
      "max_depth = 11 : 0.8227060653188181\n",
      "max_depth = 1 : 0.7480559875583204\n",
      "max_depth = 2 : 0.7869362363919129\n",
      "max_depth = 3 : 0.7978227060653188\n",
      "max_depth = 4 : 0.8009331259720062\n",
      "max_depth = 5 : 0.8087091757387247\n",
      "max_depth = 6 : 0.8149300155520995\n",
      "max_depth = 7 : 0.8133748055987559\n",
      "max_depth = 8 : 0.8149300155520995\n",
      "max_depth = 9 : 0.8180404354587869\n",
      "max_depth = 10 : 0.8149300155520995\n",
      "max_depth = 11 : 0.8258164852255054\n",
      "max_depth = 1 : 0.7465007776049767\n",
      "max_depth = 2 : 0.7822706065318819\n",
      "max_depth = 3 : 0.7978227060653188\n",
      "max_depth = 4 : 0.8009331259720062\n",
      "max_depth = 5 : 0.8102643856920684\n",
      "max_depth = 6 : 0.8164852255054432\n",
      "max_depth = 7 : 0.8133748055987559\n",
      "max_depth = 8 : 0.8133748055987559\n",
      "max_depth = 9 : 0.8180404354587869\n",
      "max_depth = 10 : 0.8195956454121306\n",
      "max_depth = 11 : 0.8258164852255054\n",
      "max_depth = 1 : 0.7713841368584758\n",
      "max_depth = 2 : 0.7822706065318819\n",
      "max_depth = 3 : 0.7978227060653188\n",
      "max_depth = 4 : 0.8009331259720062\n",
      "max_depth = 5 : 0.8087091757387247\n",
      "max_depth = 6 : 0.8149300155520995\n",
      "max_depth = 7 : 0.8149300155520995\n",
      "max_depth = 8 : 0.8149300155520995\n",
      "max_depth = 9 : 0.8195956454121306\n",
      "max_depth = 10 : 0.8195956454121306\n",
      "max_depth = 11 : 0.8211508553654744\n",
      "Accuracy наилучшей модели на шаге 11  на тестовой выборке: 0.8258164852255054\n",
      "Количество деревьев 71\n",
      "CPU times: user 13.4 s, sys: 129 ms, total: 13.5 s\n",
      "Wall time: 13.6 s\n"
     ]
    }
   ],
   "source": [
    "%%time\n",
    "best_model_rf = None\n",
    "best_result = 0\n",
    "best_depth = 0\n",
    "best_forest = 0\n",
    "\n",
    "accuracy_train_list = []\n",
    "accuracy_test_list = []\n",
    "\n",
    "depth = []\n",
    "\n",
    "\n",
    "for est in range(1, 100, 10):\n",
    "\n",
    "    for i in range(1,12):\n",
    "\n",
    "        model = RandomForestClassifier(random_state=12345,  n_estimators=est, max_depth=i) \n",
    "        fit = model.fit(features_train, target_train)\n",
    "\n",
    "        accuracy_train = model.score(features_train, target_train)\n",
    "        accuracy_test = model.score(features_test, target_test)\n",
    "        print(\"max_depth =\", i, \": \", end='')\n",
    "        print(accuracy_test)\n",
    "\n",
    "        depth.append(i)\n",
    "        accuracy_train_list.append(accuracy_train)\n",
    "        accuracy_test_list.append(accuracy_test)\n",
    "\n",
    "        if accuracy_test > best_result:\n",
    "            best_model_rf = model\n",
    "            best_result = accuracy_test\n",
    "            best_depth = i\n",
    "            best_forest = est\n",
    "\n",
    "\n",
    "print(f\"Accuracy наилучшей модели на шаге {best_depth}  на тестовой выборке:\", best_result)\n",
    "print(f\"Количество деревьев {best_forest}\")"
   ]
  },
  {
   "cell_type": "code",
   "execution_count": 27,
   "metadata": {},
   "outputs": [
    {
     "name": "stdout",
     "output_type": "stream",
     "text": [
      "110\n"
     ]
    }
   ],
   "source": [
    "print(len(accuracy_test_list))"
   ]
  },
  {
   "cell_type": "code",
   "execution_count": 28,
   "metadata": {
    "scrolled": true
   },
   "outputs": [
    {
     "data": {
      "image/png": "[encoded data removed]",
      "text/plain": [
       "<Figure size 1440x1440 with 2 Axes>"
      ]
     },
     "metadata": {
      "needs_background": "light"
     },
     "output_type": "display_data"
    }
   ],
   "source": [
    "data_train = [[val] for val in accuracy_train_list]\n",
    "data_test = [[val] for val in accuracy_test_list]\n",
    "\n",
    "\n",
    "plt.figure(figsize=(20, 20))\n",
    "plt.subplot(1, 2, 1)\n",
    "plt.grid(True)\n",
    "plt.xticks(ticks=np.arange(len(data_train)), rotation=0)\n",
    "plt.yticks(ticks=np.arange(len(data_train)), rotation=0)\n",
    "sns.heatmap(data_train, annot=True, fmt=\".3f\", cmap=\"YlGnBu\", cbar=True)\n",
    "plt.xlabel('Глубина дерева', color='Blue', fontsize=15)\n",
    "plt.ylabel('Точность модели', color='Blue', fontsize=15)\n",
    "plt.title('Обучающая выборка', color='Blue', fontsize=16)\n",
    "\n",
    "plt.show()\n"
   ]
  },
  {
   "cell_type": "code",
   "execution_count": null,
   "metadata": {},
   "outputs": [],
   "source": []
  },
  {
   "cell_type": "code",
   "execution_count": 29,
   "metadata": {},
   "outputs": [
    {
     "data": {
      "image/png": "[encoded data removed]",
      "text/plain": [
       "<Figure size 864x432 with 2 Axes>"
      ]
     },
     "metadata": {
      "needs_background": "light"
     },
     "output_type": "display_data"
    }
   ],
   "source": [
    "num_columns = 11\n",
    "num_rows = len(accuracy_train_list) // num_columns\n",
    "data_train = np.array(accuracy_train_list).reshape(num_rows, num_columns)\n",
    "\n",
    "# Создаем тепловую карту\n",
    "plt.figure(figsize=(12, 6))\n",
    "plt.grid(True)\n",
    "plt.xticks(ticks=np.arange(num_columns), rotation=0)\n",
    "plt.yticks(ticks=np.arange(num_rows), rotation=0)\n",
    "sns.heatmap(data_train, annot=True, fmt=\".3f\", cmap=\"YlGnBu\", cbar=True, square=True)\n",
    "plt.xlabel('Глубина дерева', color='Blue', fontsize=15)\n",
    "plt.ylabel('Точность модели', color='Blue', fontsize=15)\n",
    "plt.title('Обучающая выборка', color='Blue', fontsize=16)\n",
    "plt.show()"
   ]
  },
  {
   "cell_type": "code",
   "execution_count": 30,
   "metadata": {},
   "outputs": [
    {
     "data": {
      "image/png": "[encoded data removed]",
      "text/plain": [
       "<Figure size 864x432 with 2 Axes>"
      ]
     },
     "metadata": {
      "needs_background": "light"
     },
     "output_type": "display_data"
    }
   ],
   "source": [
    "num_columns = 11\n",
    "num_rows = len(accuracy_test_list) // num_columns\n",
    "data_test = np.array(accuracy_test_list).reshape(num_rows, num_columns)\n",
    "\n",
    "# Создаем тепловую карту\n",
    "plt.figure(figsize=(12, 6))\n",
    "plt.grid(True)\n",
    "plt.xticks(ticks=np.arange(num_columns), rotation=0)\n",
    "plt.yticks(ticks=np.arange(num_rows), rotation=0)\n",
    "sns.heatmap(data_test, annot=True, fmt=\".3f\", cmap=\"YlGnBu\", cbar=True, square=True)\n",
    "plt.xlabel('Глубина дерева', color='Blue', fontsize=15)\n",
    "plt.ylabel('Точность модели', color='Blue', fontsize=15)\n",
    "plt.title('Тестовая выборка', color='Blue', fontsize=16)\n",
    "plt.show()"
   ]
  },
  {
   "cell_type": "markdown",
   "metadata": {},
   "source": [
    "#### Вывод Accuracy наилучшей модели на шаге 11  на тестовой выборке: 0.8258164852255054\n",
    "Количество деревьев 71"
   ]
  },
  {
   "cell_type": "markdown",
   "metadata": {},
   "source": [
    "### Изучим модель - Логическая Регрессия"
   ]
  },
  {
   "cell_type": "code",
   "execution_count": 31,
   "metadata": {
    "scrolled": true
   },
   "outputs": [
    {
     "name": "stderr",
     "output_type": "stream",
     "text": [
      "/opt/conda/lib/python3.9/site-packages/sklearn/linear_model/_logistic.py:763: ConvergenceWarning: lbfgs failed to converge (status=1):\n",
      "STOP: TOTAL NO. of ITERATIONS REACHED LIMIT.\n",
      "\n",
      "Increase the number of iterations (max_iter) or scale the data as shown in:\n",
      "    https://scikit-learn.org/stable/modules/preprocessing.html\n",
      "Please also refer to the documentation for alternative solver options:\n",
      "    https://scikit-learn.org/stable/modules/linear_model.html#logistic-regression\n",
      "  n_iter_i = _check_optimize_result(\n",
      "/opt/conda/lib/python3.9/site-packages/sklearn/linear_model/_logistic.py:763: ConvergenceWarning: lbfgs failed to converge (status=1):\n",
      "STOP: TOTAL NO. of ITERATIONS REACHED LIMIT.\n",
      "\n",
      "Increase the number of iterations (max_iter) or scale the data as shown in:\n",
      "    https://scikit-learn.org/stable/modules/preprocessing.html\n",
      "Please also refer to the documentation for alternative solver options:\n",
      "    https://scikit-learn.org/stable/modules/linear_model.html#logistic-regression\n",
      "  n_iter_i = _check_optimize_result(\n"
     ]
    },
    {
     "name": "stdout",
     "output_type": "stream",
     "text": [
      "max_depth = 1 : 0.6936236391912908\n",
      "max_depth = 51 : 0.7076205287713841\n",
      "max_depth = 101 : 0.7371695178849145\n",
      "max_depth = 151 : 0.7371695178849145\n",
      "max_depth = 201 : 0.7371695178849145\n",
      "max_depth = 251 : 0.7371695178849145\n",
      "max_depth = 301 : 0.7371695178849145\n",
      "max_depth = 351 : 0.7371695178849145\n",
      "max_depth = 401 : 0.7371695178849145\n",
      "max_depth = 451 : 0.7371695178849145\n",
      "max_depth = 501 : 0.7371695178849145\n",
      "max_depth = 551 : 0.7371695178849145\n",
      "max_depth = 601 : 0.7371695178849145\n",
      "max_depth = 651 : 0.7371695178849145\n",
      "max_depth = 701 : 0.7371695178849145\n",
      "max_depth = 751 : 0.7371695178849145\n",
      "max_depth = 801 : 0.7371695178849145\n",
      "max_depth = 851 : 0.7371695178849145\n",
      "max_depth = 901 : 0.7371695178849145\n",
      "max_depth = 951 : 0.7371695178849145\n",
      "max_depth = 1001 : 0.7371695178849145\n",
      "max_depth = 1051 : 0.7371695178849145\n",
      "max_depth = 1101 : 0.7371695178849145\n",
      "max_depth = 1151 : 0.7371695178849145\n",
      "max_depth = 1201 : 0.7371695178849145\n",
      "max_depth = 1251 : 0.7371695178849145\n",
      "max_depth = 1301 : 0.7371695178849145\n",
      "max_depth = 1351 : 0.7371695178849145\n",
      "max_depth = 1401 : 0.7371695178849145\n",
      "max_depth = 1451 : 0.7371695178849145\n",
      "max_depth = 1501 : 0.7371695178849145\n",
      "max_depth = 1551 : 0.7371695178849145\n",
      "max_depth = 1601 : 0.7371695178849145\n",
      "max_depth = 1651 : 0.7371695178849145\n",
      "max_depth = 1701 : 0.7371695178849145\n",
      "max_depth = 1751 : 0.7371695178849145\n",
      "max_depth = 1801 : 0.7371695178849145\n",
      "max_depth = 1851 : 0.7371695178849145\n",
      "max_depth = 1901 : 0.7371695178849145\n",
      "max_depth = 1951 : 0.7371695178849145\n",
      "max_depth = 2001 : 0.7371695178849145\n",
      "max_depth = 2051 : 0.7371695178849145\n",
      "max_depth = 2101 : 0.7371695178849145\n",
      "max_depth = 2151 : 0.7371695178849145\n",
      "max_depth = 2201 : 0.7371695178849145\n",
      "max_depth = 2251 : 0.7371695178849145\n",
      "max_depth = 2301 : 0.7371695178849145\n",
      "max_depth = 2351 : 0.7371695178849145\n",
      "max_depth = 2401 : 0.7371695178849145\n",
      "max_depth = 2451 : 0.7371695178849145\n",
      "max_depth = 2501 : 0.7371695178849145\n",
      "max_depth = 2551 : 0.7371695178849145\n",
      "max_depth = 2601 : 0.7371695178849145\n",
      "max_depth = 2651 : 0.7371695178849145\n",
      "max_depth = 2701 : 0.7371695178849145\n",
      "max_depth = 2751 : 0.7371695178849145\n",
      "max_depth = 2801 : 0.7371695178849145\n",
      "max_depth = 2851 : 0.7371695178849145\n",
      "max_depth = 2901 : 0.7371695178849145\n",
      "max_depth = 2951 : 0.7371695178849145\n",
      "Accuracy наилучшей модели на тестовой выборке: 0.7371695178849145\n",
      "\n",
      "Лучшая итерация 101\n"
     ]
    }
   ],
   "source": [
    "best_model_lr = None\n",
    "best_result = 0\n",
    "\n",
    "depth = []\n",
    "accuracy_train_list = []\n",
    "accuracy_test_list = []\n",
    "\n",
    "\n",
    "best_iter = 0\n",
    "for est in range(1, 3001, 50):\n",
    "    model =  LogisticRegression(random_state=12345, solver = 'lbfgs', max_iter = est) \n",
    "    model.fit(features_train, target_train)\n",
    "    model.predict(features_test)\n",
    "    \n",
    "    accuracy_train = model.score(features_train, target_train)\n",
    "    accuracy_test = model.score(features_test, target_test)\n",
    "    print(\"max_depth =\", est, \": \", end='')\n",
    "    print(accuracy_test)\n",
    "    \n",
    "    depth.append(i)\n",
    "    accuracy_train_list.append(accuracy_train)\n",
    "    accuracy_test_list.append(accuracy_test)\n",
    "\n",
    "    if accuracy_test > best_result:\n",
    "        best_model_lr = model\n",
    "        best_result = accuracy_test\n",
    "\n",
    "        best_iter = est\n",
    "\n",
    "\n",
    "print(f\"Accuracy наилучшей модели на тестовой выборке: { best_result}\\n\")\n",
    "print(f\"Лучшая итерация {best_iter}\")"
   ]
  },
  {
   "cell_type": "code",
   "execution_count": 32,
   "metadata": {},
   "outputs": [
    {
     "data": {
      "image/png": "[encoded data removed]",
      "text/plain": [
       "<Figure size 864x432 with 1 Axes>"
      ]
     },
     "metadata": {
      "needs_background": "light"
     },
     "output_type": "display_data"
    }
   ],
   "source": [
    "plt.figure(figsize=(12, 6))\n",
    "plt.grid(True)\n",
    "plt.plot(depth, accuracy_train_list)\n",
    "plt.plot(depth, accuracy_test_list)\n",
    "plt.xlabel('Глубина дерева', color = 'Orange', fontsize=15)\n",
    "plt.ylabel('Точность модели', color = 'Orange', fontsize=15)\n",
    "plt.title('Взаимосвязь \"Логическая Регрессия\" от глубины дерева на обучающей и тестовой выборках', \n",
    "          color = 'Blue', fontsize=16)\n",
    "plt.legend(['Обучающая выборка', 'Тестовая выборка'])\n",
    "plt.show()"
   ]
  },
  {
   "cell_type": "markdown",
   "metadata": {},
   "source": [
    "#### Вывод Accuracy наилучшей модели на тестовой выборке: 0.7371695178849145\n",
    "Лучшая итерация 101"
   ]
  },
  {
   "cell_type": "markdown",
   "metadata": {},
   "source": [
    "### Вывод:\n",
    "Мы рассмотрели три модели:\n",
    "* дерево решений - Accuracy наилучшей модели на шаге 3 на тестовой выборке: 0.7993779160186625\n",
    "* лес деревьев - Accuracy наилучшей модели на шаге 11  на тестовой выборке: 0.8258164852255054. Количество деревьев 71.\n",
    "* логическая регрессия - Accuracy наилучшей модели на тестовой выборке: 0.7371695178849145. Лучшая итерация 101\n",
    "\n"
   ]
  },
  {
   "cell_type": "code",
   "execution_count": null,
   "metadata": {},
   "outputs": [],
   "source": []
  },
  {
   "cell_type": "markdown",
   "metadata": {},
   "source": [
    "## Проверьте модель на тестовой выборке"
   ]
  },
  {
   "cell_type": "markdown",
   "metadata": {},
   "source": [
    "### Лучшая модель лес деревьев. Протестируем  на тестовой выборке.\n"
   ]
  },
  {
   "cell_type": "code",
   "execution_count": 33,
   "metadata": {},
   "outputs": [
    {
     "name": "stdout",
     "output_type": "stream",
     "text": [
      "0.8180404354587869\n"
     ]
    }
   ],
   "source": [
    "best_model_rf = RandomForestClassifier(random_state=12345,  n_estimators=71, max_depth=11) \n",
    "best_model_rf.fit(features_train, target_train)\n",
    "\n",
    "accuracy = best_model_rf.score(features_valid, target_valid)\n",
    "\n",
    "print(accuracy)"
   ]
  },
  {
   "cell_type": "markdown",
   "metadata": {},
   "source": [
    "#### Вывод  На валидной выборке тестовая модель показала себя - 0.82"
   ]
  },
  {
   "cell_type": "code",
   "execution_count": 34,
   "metadata": {},
   "outputs": [],
   "source": [
    "union_train_test_features = pd.concat([features_train, features_valid], axis=0)\n",
    "union_train_test_target = pd.concat([target_train, target_valid], axis=0)"
   ]
  },
  {
   "cell_type": "code",
   "execution_count": 35,
   "metadata": {
    "scrolled": true
   },
   "outputs": [
    {
     "name": "stdout",
     "output_type": "stream",
     "text": [
      "Точность: 0.8118195956454122\n",
      "Recall:   0.5279187817258884\n",
      "F1-Score: 0.6322188449848024\n",
      "Confusion Matrix:\n",
      "[[418  28]\n",
      " [ 93 104]]\n"
     ]
    },
    {
     "data": {
      "image/png": "[encoded data removed]",
      "text/plain": [
       "<Figure size 432x288 with 2 Axes>"
      ]
     },
     "metadata": {
      "needs_background": "light"
     },
     "output_type": "display_data"
    }
   ],
   "source": [
    "best_model_rf = RandomForestClassifier(random_state=12345,  n_estimators=71, max_depth=11) \n",
    "best_model_rf.fit(union_train_test_features, union_train_test_target)\n",
    "predict = best_model_rf.predict(features_test)\n",
    "\n",
    "\n",
    "accuracy = accuracy_score(target_test, predict)\n",
    "recall = recall_score(target_test, predict)\n",
    "f1 = f1_score(target_test, predict)\n",
    "confusion = confusion_matrix(target_test, predict)\n",
    "\n",
    "\n",
    "print(f'Точность: {accuracy}')\n",
    "print(f'Recall:   {recall}')\n",
    "print(f'F1-Score: {f1}')\n",
    "print('Confusion Matrix:')\n",
    "print(confusion)\n",
    "disp = ConfusionMatrixDisplay(confusion_matrix=confusion)\n",
    "disp.plot()\n",
    "plt.show()\n"
   ]
  },
  {
   "cell_type": "code",
   "execution_count": null,
   "metadata": {},
   "outputs": [],
   "source": []
  },
  {
   "cell_type": "markdown",
   "metadata": {},
   "source": [
    "## Проверяем модели на адекватность"
   ]
  },
  {
   "cell_type": "code",
   "execution_count": 36,
   "metadata": {},
   "outputs": [
    {
     "data": {
      "text/plain": [
       "0.6936236391912908"
      ]
     },
     "execution_count": 36,
     "metadata": {},
     "output_type": "execute_result"
    }
   ],
   "source": [
    "adeq = DummyClassifier(strategy='most_frequent', random_state=12345)  \n",
    "adeq.fit(features_train, target_train)\n",
    "adeq.score(features_valid, target_valid)"
   ]
  },
  {
   "cell_type": "code",
   "execution_count": 37,
   "metadata": {},
   "outputs": [
    {
     "name": "stdout",
     "output_type": "stream",
     "text": [
      "Accuracy тестовой выборки для most_frequent = 0.6936236391912908\n",
      "Accuracy валидационной выборки для most_frequent = 0.6936236391912908\n",
      "\n",
      "Accuracy тестовой выборки для prior = 0.6936236391912908\n",
      "Accuracy валидационной выборки для prior = 0.6936236391912908\n",
      "\n",
      "Accuracy тестовой выборки для stratified = 0.578538102643857\n",
      "Accuracy валидационной выборки для stratified = 0.5878693623639192\n",
      "\n",
      "Accuracy тестовой выборки для uniform = 0.4821150855365474\n",
      "Accuracy валидационной выборки для uniform = 0.49144634525660963\n",
      "\n"
     ]
    }
   ],
   "source": [
    "for i in [\"most_frequent\", \"prior\", \"stratified\", \"uniform\"]:\n",
    "    adeq = DummyClassifier(strategy=i, random_state=12345)\n",
    "    adeq.fit(features_train, target_train)\n",
    "    adeq_test = adeq.score(features_test, target_test)\n",
    "    adeq_valid = adeq.score(features_valid, target_valid)\n",
    "    print(f\"Accuracy тестовой выборки для {i} = {adeq_test}\")\n",
    "    print(f\"Accuracy валидационной выборки для {i} = {adeq_valid}\\n\")\n",
    "    "
   ]
  },
  {
   "cell_type": "markdown",
   "metadata": {},
   "source": [
    "### Вывод\n",
    "Существуют следующие колонки\n",
    "---  ------    --------------  -----  \n",
    "*    calls     количество звонков\n",
    "*    minutes   Сколько абонент разговаривал\n",
    "*    messages  Сколько смс отправил\n",
    "*    mb_used   Сколько пользователь пользовался интернетом в разрезе объема мегабайт\n",
    "*    is_ultra  Подключен ли пользователь к тарифу Ультра\n",
    " \n",
    " \n",
    "Данные не сбаланированы - Пользователей без \"ультры\" в 3 раза больше. Сбалансировали методом stratify - чтобы не сбалансированность данных была везде одинаковая.\n",
    " \n",
    " \n",
    " Проанализировал несколько видов Машинного обучения - Пришел к выводу что случайный лес наиболее подходящая угадывает 8 из 10."
   ]
  }
 ],
 "metadata": {
  "ExecuteTimeLog": [
   {
    "duration": 90,
    "start_time": "2023-09-21T12:08:41.139Z"
   },
   {
    "duration": 438,
    "start_time": "2023-09-21T12:08:43.497Z"
   },
   {
    "duration": 118,
    "start_time": "2023-09-21T12:08:43.937Z"
   },
   {
    "duration": 13,
    "start_time": "2023-09-21T12:08:44.090Z"
   },
   {
    "duration": 18,
    "start_time": "2023-09-21T12:09:56.786Z"
   },
   {
    "duration": 7,
    "start_time": "2023-09-21T12:21:09.165Z"
   },
   {
    "duration": 650,
    "start_time": "2023-09-21T12:28:21.016Z"
   },
   {
    "duration": 139,
    "start_time": "2023-09-21T12:28:23.995Z"
   },
   {
    "duration": 179,
    "start_time": "2023-09-21T12:28:37.064Z"
   },
   {
    "duration": 163,
    "start_time": "2023-09-21T12:28:40.719Z"
   },
   {
    "duration": 2453,
    "start_time": "2023-09-21T12:29:07.808Z"
   },
   {
    "duration": 208,
    "start_time": "2023-09-21T12:29:17.656Z"
   },
   {
    "duration": 133,
    "start_time": "2023-09-21T12:29:31.137Z"
   },
   {
    "duration": 4,
    "start_time": "2023-09-21T12:35:21.263Z"
   },
   {
    "duration": 8,
    "start_time": "2023-09-21T12:35:22.463Z"
   },
   {
    "duration": 1160,
    "start_time": "2023-09-21T12:35:32.534Z"
   },
   {
    "duration": 6,
    "start_time": "2023-09-21T12:35:37.015Z"
   },
   {
    "duration": 46,
    "start_time": "2023-09-21T12:36:57.296Z"
   },
   {
    "duration": 647,
    "start_time": "2023-09-21T12:37:11.305Z"
   },
   {
    "duration": 7,
    "start_time": "2023-09-21T12:50:31.600Z"
   },
   {
    "duration": 69,
    "start_time": "2023-09-21T12:51:07.441Z"
   },
   {
    "duration": 7,
    "start_time": "2023-09-21T12:51:23.601Z"
   },
   {
    "duration": 13,
    "start_time": "2023-09-21T12:51:24.233Z"
   },
   {
    "duration": 6,
    "start_time": "2023-09-21T12:51:26.577Z"
   },
   {
    "duration": 13,
    "start_time": "2023-09-21T12:51:26.937Z"
   },
   {
    "duration": 6,
    "start_time": "2023-09-21T12:51:37.937Z"
   },
   {
    "duration": 13,
    "start_time": "2023-09-21T12:51:38.561Z"
   },
   {
    "duration": 5,
    "start_time": "2023-09-21T12:54:35.021Z"
   },
   {
    "duration": 13,
    "start_time": "2023-09-21T12:54:35.565Z"
   },
   {
    "duration": 40,
    "start_time": "2023-09-21T12:55:09.175Z"
   },
   {
    "duration": 4,
    "start_time": "2023-09-21T12:56:53.897Z"
   },
   {
    "duration": 6,
    "start_time": "2023-09-21T12:57:09.704Z"
   },
   {
    "duration": 27,
    "start_time": "2023-09-21T12:57:10.175Z"
   },
   {
    "duration": 5,
    "start_time": "2023-09-21T12:57:10.472Z"
   },
   {
    "duration": 5,
    "start_time": "2023-09-21T13:07:51.918Z"
   },
   {
    "duration": 11,
    "start_time": "2023-09-21T13:07:52.582Z"
   },
   {
    "duration": 4,
    "start_time": "2023-09-21T13:10:19.151Z"
   },
   {
    "duration": 5,
    "start_time": "2023-09-21T13:10:21.942Z"
   },
   {
    "duration": 7,
    "start_time": "2023-09-21T13:10:40.106Z"
   },
   {
    "duration": 8,
    "start_time": "2023-09-21T13:10:59.152Z"
   },
   {
    "duration": 5,
    "start_time": "2023-09-21T13:10:59.856Z"
   },
   {
    "duration": 4,
    "start_time": "2023-09-21T13:11:22.298Z"
   },
   {
    "duration": 9,
    "start_time": "2023-09-21T13:11:22.600Z"
   },
   {
    "duration": 5,
    "start_time": "2023-09-21T13:11:23.008Z"
   },
   {
    "duration": 10,
    "start_time": "2023-09-21T13:30:35.213Z"
   },
   {
    "duration": 5,
    "start_time": "2023-09-21T13:30:45.764Z"
   },
   {
    "duration": 4,
    "start_time": "2023-09-21T13:30:46.309Z"
   },
   {
    "duration": 4,
    "start_time": "2023-09-21T13:30:46.708Z"
   },
   {
    "duration": 5,
    "start_time": "2023-09-21T13:32:02.540Z"
   },
   {
    "duration": 5,
    "start_time": "2023-09-21T13:32:02.884Z"
   },
   {
    "duration": 4,
    "start_time": "2023-09-21T13:32:04.325Z"
   },
   {
    "duration": 10,
    "start_time": "2023-09-21T13:34:58.614Z"
   },
   {
    "duration": 4,
    "start_time": "2023-09-21T13:35:05.314Z"
   },
   {
    "duration": 4,
    "start_time": "2023-09-21T13:37:23.391Z"
   },
   {
    "duration": 3,
    "start_time": "2023-09-21T13:37:27.232Z"
   },
   {
    "duration": 16,
    "start_time": "2023-09-21T13:37:29.039Z"
   },
   {
    "duration": 6,
    "start_time": "2023-09-21T13:51:37.642Z"
   },
   {
    "duration": 11,
    "start_time": "2023-09-21T13:51:46.307Z"
   },
   {
    "duration": 5,
    "start_time": "2023-09-21T13:51:53.724Z"
   },
   {
    "duration": 5,
    "start_time": "2023-09-21T13:52:48.020Z"
   },
   {
    "duration": 4,
    "start_time": "2023-09-21T13:52:58.276Z"
   },
   {
    "duration": 4,
    "start_time": "2023-09-21T13:53:46.589Z"
   },
   {
    "duration": 6,
    "start_time": "2023-09-21T13:53:46.861Z"
   },
   {
    "duration": 4,
    "start_time": "2023-09-21T13:53:47.214Z"
   },
   {
    "duration": 4,
    "start_time": "2023-09-21T13:54:11.876Z"
   },
   {
    "duration": 6,
    "start_time": "2023-09-21T13:55:05.926Z"
   },
   {
    "duration": 6,
    "start_time": "2023-09-21T13:56:29.303Z"
   },
   {
    "duration": 5,
    "start_time": "2023-09-21T14:02:52.074Z"
   },
   {
    "duration": 7,
    "start_time": "2023-09-21T14:02:53.407Z"
   },
   {
    "duration": 6,
    "start_time": "2023-09-21T14:02:53.668Z"
   },
   {
    "duration": 5,
    "start_time": "2023-09-21T14:02:53.891Z"
   },
   {
    "duration": 4,
    "start_time": "2023-09-21T14:02:54.083Z"
   },
   {
    "duration": 6,
    "start_time": "2023-09-21T14:02:54.283Z"
   },
   {
    "duration": 5,
    "start_time": "2023-09-21T14:02:54.523Z"
   },
   {
    "duration": 3,
    "start_time": "2023-09-21T14:02:54.852Z"
   },
   {
    "duration": 6,
    "start_time": "2023-09-21T14:02:55.139Z"
   },
   {
    "duration": 4,
    "start_time": "2023-09-21T14:02:55.476Z"
   },
   {
    "duration": 4,
    "start_time": "2023-09-21T14:03:16.109Z"
   },
   {
    "duration": 4,
    "start_time": "2023-09-21T14:03:45.157Z"
   },
   {
    "duration": 5,
    "start_time": "2023-09-21T14:03:59.764Z"
   },
   {
    "duration": 6,
    "start_time": "2023-09-21T14:04:17.023Z"
   },
   {
    "duration": 5,
    "start_time": "2023-09-21T14:04:17.534Z"
   },
   {
    "duration": 5,
    "start_time": "2023-09-21T14:04:18.397Z"
   },
   {
    "duration": 7,
    "start_time": "2023-09-21T14:05:51.902Z"
   },
   {
    "duration": 6,
    "start_time": "2023-09-21T14:05:52.261Z"
   },
   {
    "duration": 5,
    "start_time": "2023-09-21T14:05:53.686Z"
   },
   {
    "duration": 6,
    "start_time": "2023-09-21T14:06:16.903Z"
   },
   {
    "duration": 6,
    "start_time": "2023-09-21T14:06:17.990Z"
   },
   {
    "duration": 7,
    "start_time": "2023-09-21T14:06:33.591Z"
   },
   {
    "duration": 5,
    "start_time": "2023-09-21T14:06:34.398Z"
   },
   {
    "duration": 6,
    "start_time": "2023-09-21T14:07:13.831Z"
   },
   {
    "duration": 5,
    "start_time": "2023-09-21T14:07:14.160Z"
   },
   {
    "duration": 750,
    "start_time": "2023-09-21T14:07:14.639Z"
   },
   {
    "duration": 7,
    "start_time": "2023-09-21T14:07:15.391Z"
   },
   {
    "duration": 6,
    "start_time": "2023-09-21T14:07:15.577Z"
   },
   {
    "duration": 7,
    "start_time": "2023-09-21T14:07:17.394Z"
   },
   {
    "duration": 7,
    "start_time": "2023-09-21T14:08:30.377Z"
   },
   {
    "duration": 6,
    "start_time": "2023-09-21T14:08:30.698Z"
   },
   {
    "duration": 5,
    "start_time": "2023-09-21T14:08:31.594Z"
   },
   {
    "duration": 6,
    "start_time": "2023-09-21T14:08:46.568Z"
   },
   {
    "duration": 5,
    "start_time": "2023-09-21T14:08:47.423Z"
   },
   {
    "duration": 7,
    "start_time": "2023-09-21T14:09:17.430Z"
   },
   {
    "duration": 8,
    "start_time": "2023-09-21T14:09:17.440Z"
   },
   {
    "duration": 6,
    "start_time": "2023-09-21T14:09:18.242Z"
   },
   {
    "duration": 7,
    "start_time": "2023-09-21T14:09:29.018Z"
   },
   {
    "duration": 10,
    "start_time": "2023-09-21T14:09:29.210Z"
   },
   {
    "duration": 6,
    "start_time": "2023-09-21T14:09:29.945Z"
   },
   {
    "duration": 6,
    "start_time": "2023-09-21T14:10:39.394Z"
   },
   {
    "duration": 13,
    "start_time": "2023-09-21T14:13:42.559Z"
   },
   {
    "duration": 15,
    "start_time": "2023-09-21T14:14:00.116Z"
   },
   {
    "duration": 7,
    "start_time": "2023-09-21T14:15:04.495Z"
   },
   {
    "duration": 12,
    "start_time": "2023-09-21T14:15:05.078Z"
   },
   {
    "duration": 5,
    "start_time": "2023-09-21T14:15:33.085Z"
   },
   {
    "duration": 356,
    "start_time": "2023-09-21T14:15:33.455Z"
   },
   {
    "duration": 6,
    "start_time": "2023-09-21T14:15:35.150Z"
   },
   {
    "duration": 12,
    "start_time": "2023-09-21T14:15:36.127Z"
   },
   {
    "duration": 6,
    "start_time": "2023-09-21T14:15:44.271Z"
   },
   {
    "duration": 5,
    "start_time": "2023-09-21T14:15:45.647Z"
   },
   {
    "duration": 5,
    "start_time": "2023-09-21T14:16:39.832Z"
   },
   {
    "duration": 11,
    "start_time": "2023-09-21T14:19:29.001Z"
   },
   {
    "duration": 4,
    "start_time": "2023-09-21T14:19:44.055Z"
   },
   {
    "duration": 3,
    "start_time": "2023-09-21T14:19:47.034Z"
   },
   {
    "duration": 5,
    "start_time": "2023-09-21T14:19:49.731Z"
   },
   {
    "duration": 4,
    "start_time": "2023-09-21T14:20:16.655Z"
   },
   {
    "duration": 5,
    "start_time": "2023-09-21T14:20:26.675Z"
   },
   {
    "duration": 4,
    "start_time": "2023-09-21T14:20:34.274Z"
   },
   {
    "duration": 5,
    "start_time": "2023-09-21T14:31:36.271Z"
   },
   {
    "duration": 3,
    "start_time": "2023-09-21T14:33:15.779Z"
   },
   {
    "duration": 17,
    "start_time": "2023-09-21T14:33:16.323Z"
   },
   {
    "duration": 10,
    "start_time": "2023-09-21T14:38:12.392Z"
   },
   {
    "duration": 5,
    "start_time": "2023-09-21T14:38:18.647Z"
   },
   {
    "duration": 11,
    "start_time": "2023-09-21T14:40:31.610Z"
   },
   {
    "duration": 4,
    "start_time": "2023-09-21T14:40:33.223Z"
   },
   {
    "duration": 2028,
    "start_time": "2023-09-21T14:40:33.810Z"
   },
   {
    "duration": 2154,
    "start_time": "2023-09-21T14:41:27.313Z"
   },
   {
    "duration": 5,
    "start_time": "2023-09-21T14:41:45.547Z"
   },
   {
    "duration": 2244,
    "start_time": "2023-09-21T14:41:46.107Z"
   },
   {
    "duration": 4,
    "start_time": "2023-09-21T14:42:24.307Z"
   },
   {
    "duration": 1654,
    "start_time": "2023-09-21T14:42:25.100Z"
   },
   {
    "duration": 5,
    "start_time": "2023-09-21T14:43:38.566Z"
   },
   {
    "duration": 25,
    "start_time": "2023-09-21T14:43:51.982Z"
   },
   {
    "duration": 20,
    "start_time": "2023-09-21T14:44:52.784Z"
   },
   {
    "duration": 7,
    "start_time": "2023-09-21T14:45:15.003Z"
   },
   {
    "duration": 5,
    "start_time": "2023-09-21T14:45:18.726Z"
   },
   {
    "duration": 6,
    "start_time": "2023-09-21T14:45:27.155Z"
   },
   {
    "duration": 6,
    "start_time": "2023-09-21T14:45:27.440Z"
   },
   {
    "duration": 36,
    "start_time": "2023-09-21T14:45:27.976Z"
   },
   {
    "duration": 3,
    "start_time": "2023-09-21T14:45:46.448Z"
   },
   {
    "duration": 24,
    "start_time": "2023-09-21T14:45:47.414Z"
   },
   {
    "duration": 6,
    "start_time": "2023-09-21T14:45:51.505Z"
   },
   {
    "duration": 5,
    "start_time": "2023-09-21T14:45:51.904Z"
   },
   {
    "duration": 18,
    "start_time": "2023-09-21T14:45:52.833Z"
   },
   {
    "duration": 20,
    "start_time": "2023-09-21T14:45:58.649Z"
   },
   {
    "duration": 3,
    "start_time": "2023-09-21T14:55:23.828Z"
   },
   {
    "duration": 26,
    "start_time": "2023-09-21T14:55:24.060Z"
   },
   {
    "duration": 7,
    "start_time": "2023-09-21T14:55:24.502Z"
   },
   {
    "duration": 14,
    "start_time": "2023-09-21T14:55:25.317Z"
   },
   {
    "duration": 17,
    "start_time": "2023-09-21T14:55:51.373Z"
   },
   {
    "duration": 9,
    "start_time": "2023-09-21T14:55:56.181Z"
   },
   {
    "duration": 19,
    "start_time": "2023-09-21T14:56:25.678Z"
   },
   {
    "duration": 4,
    "start_time": "2023-09-21T14:56:52.117Z"
   },
   {
    "duration": 14,
    "start_time": "2023-09-21T14:57:34.855Z"
   },
   {
    "duration": 18,
    "start_time": "2023-09-21T14:59:33.301Z"
   },
   {
    "duration": 19,
    "start_time": "2023-09-21T14:59:33.713Z"
   },
   {
    "duration": 5,
    "start_time": "2023-09-21T14:59:34.273Z"
   },
   {
    "duration": 5,
    "start_time": "2023-09-21T14:59:35.169Z"
   },
   {
    "duration": 17,
    "start_time": "2023-09-21T15:00:57.732Z"
   },
   {
    "duration": 5,
    "start_time": "2023-09-21T15:01:21.659Z"
   },
   {
    "duration": 7,
    "start_time": "2023-09-21T15:02:37.245Z"
   },
   {
    "duration": 5,
    "start_time": "2023-09-21T15:02:37.613Z"
   },
   {
    "duration": 13,
    "start_time": "2023-09-21T15:02:39.010Z"
   },
   {
    "duration": 5,
    "start_time": "2023-09-21T15:02:39.541Z"
   },
   {
    "duration": 7,
    "start_time": "2023-09-21T15:03:22.311Z"
   },
   {
    "duration": 4,
    "start_time": "2023-09-21T15:03:30.612Z"
   },
   {
    "duration": 17,
    "start_time": "2023-09-21T15:05:14.112Z"
   },
   {
    "duration": 6,
    "start_time": "2023-09-21T15:05:33.241Z"
   },
   {
    "duration": 11,
    "start_time": "2023-09-21T15:05:33.642Z"
   },
   {
    "duration": 26,
    "start_time": "2023-09-21T15:05:34.369Z"
   },
   {
    "duration": 7,
    "start_time": "2023-09-21T15:05:49.500Z"
   },
   {
    "duration": 10,
    "start_time": "2023-09-21T15:06:33.539Z"
   },
   {
    "duration": 6,
    "start_time": "2023-09-21T15:07:15.402Z"
   },
   {
    "duration": 7,
    "start_time": "2023-09-21T15:07:25.457Z"
   },
   {
    "duration": 7,
    "start_time": "2023-09-21T15:07:51.999Z"
   },
   {
    "duration": 7,
    "start_time": "2023-09-21T15:08:00.462Z"
   },
   {
    "duration": 6,
    "start_time": "2023-09-21T15:08:01.050Z"
   },
   {
    "duration": 16,
    "start_time": "2023-09-21T15:08:01.985Z"
   },
   {
    "duration": 8,
    "start_time": "2023-09-21T15:08:02.835Z"
   },
   {
    "duration": 4,
    "start_time": "2023-09-25T13:11:25.812Z"
   },
   {
    "duration": 5,
    "start_time": "2023-09-25T13:11:26.626Z"
   },
   {
    "duration": 8,
    "start_time": "2023-09-25T13:13:03.945Z"
   },
   {
    "duration": 19,
    "start_time": "2023-09-25T13:13:30.777Z"
   },
   {
    "duration": 14,
    "start_time": "2023-09-25T13:13:47.043Z"
   },
   {
    "duration": 6,
    "start_time": "2023-09-25T13:14:02.833Z"
   },
   {
    "duration": 5,
    "start_time": "2023-09-25T13:14:08.586Z"
   },
   {
    "duration": 5,
    "start_time": "2023-09-25T13:14:20.603Z"
   },
   {
    "duration": 5,
    "start_time": "2023-09-25T13:22:12.517Z"
   },
   {
    "duration": 4,
    "start_time": "2023-09-25T13:22:13.477Z"
   },
   {
    "duration": 9,
    "start_time": "2023-09-25T13:22:14.374Z"
   },
   {
    "duration": 5,
    "start_time": "2023-09-25T13:22:15.381Z"
   },
   {
    "duration": 515,
    "start_time": "2023-09-25T13:33:41.997Z"
   },
   {
    "duration": 32,
    "start_time": "2023-09-25T13:33:58.184Z"
   },
   {
    "duration": 28,
    "start_time": "2023-09-25T13:34:51.350Z"
   },
   {
    "duration": 31,
    "start_time": "2023-09-25T13:35:02.351Z"
   },
   {
    "duration": 6,
    "start_time": "2023-09-25T13:35:27.913Z"
   },
   {
    "duration": 14,
    "start_time": "2023-09-25T13:35:47.417Z"
   },
   {
    "duration": 6,
    "start_time": "2023-09-25T13:36:06.969Z"
   },
   {
    "duration": 10,
    "start_time": "2023-09-25T13:40:01.526Z"
   },
   {
    "duration": 5,
    "start_time": "2023-09-25T13:40:07.966Z"
   },
   {
    "duration": 12,
    "start_time": "2023-09-25T13:40:13.646Z"
   },
   {
    "duration": 4,
    "start_time": "2023-09-25T13:40:19.863Z"
   },
   {
    "duration": 5,
    "start_time": "2023-09-25T13:44:55.093Z"
   },
   {
    "duration": 4,
    "start_time": "2023-09-25T13:45:02.381Z"
   },
   {
    "duration": 4,
    "start_time": "2023-09-25T13:45:02.782Z"
   },
   {
    "duration": 34,
    "start_time": "2023-09-25T13:50:22.581Z"
   },
   {
    "duration": 10,
    "start_time": "2023-09-25T13:50:49.269Z"
   },
   {
    "duration": 13,
    "start_time": "2023-09-25T13:50:59.654Z"
   },
   {
    "duration": 78,
    "start_time": "2023-09-25T13:51:24.342Z"
   },
   {
    "duration": 81,
    "start_time": "2023-09-25T13:53:36.466Z"
   },
   {
    "duration": 28,
    "start_time": "2023-09-25T13:54:22.787Z"
   },
   {
    "duration": 27,
    "start_time": "2023-09-25T13:54:34.043Z"
   },
   {
    "duration": 32,
    "start_time": "2023-09-25T13:54:46.347Z"
   },
   {
    "duration": 79,
    "start_time": "2023-09-25T13:55:04.636Z"
   },
   {
    "duration": 14,
    "start_time": "2023-09-25T13:56:36.574Z"
   },
   {
    "duration": 17,
    "start_time": "2023-09-25T13:56:50.254Z"
   },
   {
    "duration": 17,
    "start_time": "2023-09-25T13:57:18.831Z"
   },
   {
    "duration": 16,
    "start_time": "2023-09-25T13:58:00.287Z"
   },
   {
    "duration": 18,
    "start_time": "2023-09-25T13:58:58.722Z"
   },
   {
    "duration": 21,
    "start_time": "2023-09-25T14:04:01.120Z"
   },
   {
    "duration": 23,
    "start_time": "2023-09-25T14:04:09.616Z"
   },
   {
    "duration": 30,
    "start_time": "2023-09-25T14:04:43.169Z"
   },
   {
    "duration": 23,
    "start_time": "2023-09-25T14:04:50.880Z"
   },
   {
    "duration": 18,
    "start_time": "2023-09-25T14:05:30.842Z"
   },
   {
    "duration": 23,
    "start_time": "2023-09-25T14:05:40.018Z"
   },
   {
    "duration": 43,
    "start_time": "2023-09-25T14:06:59.884Z"
   },
   {
    "duration": 18,
    "start_time": "2023-09-25T14:08:09.044Z"
   },
   {
    "duration": 22,
    "start_time": "2023-09-25T14:08:24.796Z"
   },
   {
    "duration": 21,
    "start_time": "2023-09-25T14:08:37.803Z"
   },
   {
    "duration": 43,
    "start_time": "2023-09-25T14:09:59.565Z"
   },
   {
    "duration": 96,
    "start_time": "2023-09-25T14:10:03.429Z"
   },
   {
    "duration": 113,
    "start_time": "2023-09-25T14:10:06.981Z"
   },
   {
    "duration": 21,
    "start_time": "2023-09-25T14:10:32.021Z"
   },
   {
    "duration": 24,
    "start_time": "2023-09-25T14:10:35.029Z"
   },
   {
    "duration": 17,
    "start_time": "2023-09-25T14:13:36.281Z"
   },
   {
    "duration": 23,
    "start_time": "2023-09-25T14:13:52.792Z"
   },
   {
    "duration": 24,
    "start_time": "2023-09-25T14:14:10.568Z"
   },
   {
    "duration": 21,
    "start_time": "2023-09-25T14:14:23.873Z"
   },
   {
    "duration": 29,
    "start_time": "2023-09-25T14:17:22.507Z"
   },
   {
    "duration": 28,
    "start_time": "2023-09-25T14:18:56.893Z"
   },
   {
    "duration": 85,
    "start_time": "2023-09-25T14:19:30.607Z"
   },
   {
    "duration": 94,
    "start_time": "2023-09-25T14:19:39.582Z"
   },
   {
    "duration": 73,
    "start_time": "2023-09-25T14:20:42.578Z"
   },
   {
    "duration": 81,
    "start_time": "2023-09-25T14:21:29.257Z"
   },
   {
    "duration": 20,
    "start_time": "2023-09-25T14:27:03.241Z"
   },
   {
    "duration": 30,
    "start_time": "2023-09-25T14:28:25.017Z"
   },
   {
    "duration": 25,
    "start_time": "2023-09-25T14:29:27.690Z"
   },
   {
    "duration": 17,
    "start_time": "2023-09-25T14:30:26.700Z"
   },
   {
    "duration": 4,
    "start_time": "2023-09-25T14:30:38.223Z"
   },
   {
    "duration": 88,
    "start_time": "2023-09-25T14:30:41.363Z"
   },
   {
    "duration": 26,
    "start_time": "2023-09-25T14:30:45.301Z"
   },
   {
    "duration": 36,
    "start_time": "2023-09-25T14:31:15.078Z"
   },
   {
    "duration": 10905,
    "start_time": "2023-09-25T14:32:18.206Z"
   },
   {
    "duration": 12,
    "start_time": "2023-09-25T14:34:02.833Z"
   },
   {
    "duration": 12,
    "start_time": "2023-09-25T14:34:09.816Z"
   },
   {
    "duration": 11209,
    "start_time": "2023-09-25T14:34:15.594Z"
   },
   {
    "duration": 96,
    "start_time": "2023-09-25T14:38:44.825Z"
   },
   {
    "duration": 11,
    "start_time": "2023-09-25T14:40:02.112Z"
   },
   {
    "duration": 4,
    "start_time": "2023-09-25T14:40:15.647Z"
   },
   {
    "duration": 270,
    "start_time": "2023-09-25T14:40:20.834Z"
   },
   {
    "duration": 89,
    "start_time": "2023-09-25T14:41:23.729Z"
   },
   {
    "duration": 88,
    "start_time": "2023-09-25T14:41:46.409Z"
   },
   {
    "duration": 2117,
    "start_time": "2023-09-25T14:42:13.120Z"
   },
   {
    "duration": 261,
    "start_time": "2023-09-25T14:49:52.731Z"
   },
   {
    "duration": 268,
    "start_time": "2023-09-25T14:51:24.651Z"
   },
   {
    "duration": 281,
    "start_time": "2023-09-25T14:51:30.939Z"
   },
   {
    "duration": 12,
    "start_time": "2023-09-25T14:56:07.232Z"
   },
   {
    "duration": 4,
    "start_time": "2023-09-25T14:56:28.176Z"
   },
   {
    "duration": 268,
    "start_time": "2023-09-25T14:56:36.201Z"
   },
   {
    "duration": 7,
    "start_time": "2023-09-25T14:56:40.049Z"
   },
   {
    "duration": 23,
    "start_time": "2023-09-25T15:00:17.024Z"
   },
   {
    "duration": 19,
    "start_time": "2023-09-25T15:00:31.766Z"
   },
   {
    "duration": 2234,
    "start_time": "2023-09-25T15:00:56.759Z"
   },
   {
    "duration": 2162,
    "start_time": "2023-09-25T15:01:16.872Z"
   },
   {
    "duration": 260,
    "start_time": "2023-09-25T15:01:36.783Z"
   },
   {
    "duration": 7,
    "start_time": "2023-09-25T15:01:37.839Z"
   },
   {
    "duration": 21,
    "start_time": "2023-09-25T15:01:38.807Z"
   },
   {
    "duration": 14,
    "start_time": "2023-09-25T15:02:15.786Z"
   },
   {
    "duration": 1186,
    "start_time": "2023-09-25T15:04:51.244Z"
   },
   {
    "duration": 30,
    "start_time": "2023-09-25T15:04:52.432Z"
   },
   {
    "duration": 11,
    "start_time": "2023-09-25T15:04:52.464Z"
   },
   {
    "duration": 39,
    "start_time": "2023-09-25T15:04:52.476Z"
   },
   {
    "duration": 35,
    "start_time": "2023-09-25T15:04:52.517Z"
   },
   {
    "duration": 27,
    "start_time": "2023-09-25T15:04:52.553Z"
   },
   {
    "duration": 44,
    "start_time": "2023-09-25T15:04:52.582Z"
   },
   {
    "duration": 6,
    "start_time": "2023-09-25T15:04:52.628Z"
   },
   {
    "duration": 15,
    "start_time": "2023-09-25T15:04:52.635Z"
   },
   {
    "duration": 20,
    "start_time": "2023-09-25T15:04:52.651Z"
   },
   {
    "duration": 48,
    "start_time": "2023-09-25T15:04:52.673Z"
   },
   {
    "duration": 35,
    "start_time": "2023-09-25T15:04:52.722Z"
   },
   {
    "duration": 18,
    "start_time": "2023-09-25T15:04:52.759Z"
   },
   {
    "duration": 28,
    "start_time": "2023-09-25T15:04:52.780Z"
   },
   {
    "duration": 31,
    "start_time": "2023-09-25T15:04:52.810Z"
   },
   {
    "duration": 23,
    "start_time": "2023-09-25T15:04:52.843Z"
   },
   {
    "duration": 113,
    "start_time": "2023-09-25T15:04:52.868Z"
   },
   {
    "duration": 10480,
    "start_time": "2023-09-25T15:04:52.982Z"
   },
   {
    "duration": 2155,
    "start_time": "2023-09-25T15:05:03.464Z"
   },
   {
    "duration": 277,
    "start_time": "2023-09-25T15:05:05.621Z"
   },
   {
    "duration": 6,
    "start_time": "2023-09-25T15:05:05.900Z"
   },
   {
    "duration": 45,
    "start_time": "2023-09-25T15:05:05.908Z"
   },
   {
    "duration": 3239,
    "start_time": "2023-09-26T13:40:04.988Z"
   },
   {
    "duration": 30,
    "start_time": "2023-09-26T13:40:08.230Z"
   },
   {
    "duration": 12,
    "start_time": "2023-09-26T13:40:08.264Z"
   },
   {
    "duration": 51,
    "start_time": "2023-09-26T13:40:08.278Z"
   },
   {
    "duration": 34,
    "start_time": "2023-09-26T13:40:08.330Z"
   },
   {
    "duration": 27,
    "start_time": "2023-09-26T13:40:08.365Z"
   },
   {
    "duration": 51,
    "start_time": "2023-09-26T13:40:08.394Z"
   },
   {
    "duration": 23,
    "start_time": "2023-09-26T13:40:08.447Z"
   },
   {
    "duration": 10,
    "start_time": "2023-09-26T13:40:08.473Z"
   },
   {
    "duration": 37,
    "start_time": "2023-09-26T13:40:08.485Z"
   },
   {
    "duration": 33,
    "start_time": "2023-09-26T13:40:08.524Z"
   },
   {
    "duration": 30,
    "start_time": "2023-09-26T13:40:08.559Z"
   },
   {
    "duration": 10,
    "start_time": "2023-09-26T13:40:08.591Z"
   },
   {
    "duration": 21,
    "start_time": "2023-09-26T13:40:08.602Z"
   },
   {
    "duration": 47,
    "start_time": "2023-09-26T13:40:08.625Z"
   },
   {
    "duration": 43,
    "start_time": "2023-09-26T13:40:08.674Z"
   },
   {
    "duration": 90,
    "start_time": "2023-09-26T13:40:08.719Z"
   },
   {
    "duration": 10659,
    "start_time": "2023-09-26T13:40:08.810Z"
   },
   {
    "duration": 2209,
    "start_time": "2023-09-26T13:40:19.472Z"
   },
   {
    "duration": 269,
    "start_time": "2023-09-26T13:40:21.683Z"
   },
   {
    "duration": 6,
    "start_time": "2023-09-26T13:40:21.954Z"
   },
   {
    "duration": 534,
    "start_time": "2023-09-26T13:40:21.962Z"
   },
   {
    "duration": 47,
    "start_time": "2023-09-26T14:25:24.629Z"
   },
   {
    "duration": 1087,
    "start_time": "2023-09-26T14:25:32.370Z"
   },
   {
    "duration": 64,
    "start_time": "2023-09-26T14:25:33.458Z"
   },
   {
    "duration": 11,
    "start_time": "2023-09-26T14:25:33.523Z"
   },
   {
    "duration": 17,
    "start_time": "2023-09-26T14:25:33.536Z"
   },
   {
    "duration": 5,
    "start_time": "2023-09-26T14:25:33.554Z"
   },
   {
    "duration": 19,
    "start_time": "2023-09-26T14:25:33.561Z"
   },
   {
    "duration": 3,
    "start_time": "2023-09-26T14:25:33.581Z"
   },
   {
    "duration": 10,
    "start_time": "2023-09-26T14:25:33.585Z"
   },
   {
    "duration": 4,
    "start_time": "2023-09-26T14:25:33.596Z"
   },
   {
    "duration": 6,
    "start_time": "2023-09-26T14:25:33.602Z"
   },
   {
    "duration": 37,
    "start_time": "2023-09-26T14:25:33.609Z"
   },
   {
    "duration": 4,
    "start_time": "2023-09-26T14:25:33.648Z"
   },
   {
    "duration": 7,
    "start_time": "2023-09-26T14:25:33.653Z"
   },
   {
    "duration": 7,
    "start_time": "2023-09-26T14:25:33.662Z"
   },
   {
    "duration": 9,
    "start_time": "2023-09-26T14:25:33.670Z"
   },
   {
    "duration": 7,
    "start_time": "2023-09-26T14:25:33.680Z"
   },
   {
    "duration": 8,
    "start_time": "2023-09-26T14:25:33.689Z"
   },
   {
    "duration": 79,
    "start_time": "2023-09-26T14:25:33.699Z"
   },
   {
    "duration": 10286,
    "start_time": "2023-09-26T14:25:33.779Z"
   },
   {
    "duration": 2092,
    "start_time": "2023-09-26T14:25:44.067Z"
   },
   {
    "duration": 257,
    "start_time": "2023-09-26T14:25:46.161Z"
   },
   {
    "duration": 5,
    "start_time": "2023-09-26T14:25:46.420Z"
   },
   {
    "duration": 20,
    "start_time": "2023-09-26T14:25:46.427Z"
   },
   {
    "duration": 8,
    "start_time": "2023-09-26T14:26:45.959Z"
   },
   {
    "duration": 8,
    "start_time": "2023-09-26T14:26:58.920Z"
   },
   {
    "duration": 9,
    "start_time": "2023-09-26T14:27:14.800Z"
   },
   {
    "duration": 6,
    "start_time": "2023-09-26T14:44:24.959Z"
   },
   {
    "duration": 5,
    "start_time": "2023-09-26T14:48:21.998Z"
   },
   {
    "duration": 9,
    "start_time": "2023-09-26T14:48:32.540Z"
   },
   {
    "duration": 8,
    "start_time": "2023-09-26T14:48:33.055Z"
   },
   {
    "duration": 4,
    "start_time": "2023-09-26T14:48:33.527Z"
   },
   {
    "duration": 4,
    "start_time": "2023-09-26T14:48:34.364Z"
   },
   {
    "duration": 3,
    "start_time": "2023-09-26T14:48:35.839Z"
   },
   {
    "duration": 70,
    "start_time": "2023-09-26T14:49:44.919Z"
   },
   {
    "duration": 4,
    "start_time": "2023-09-26T14:50:00.485Z"
   },
   {
    "duration": 10,
    "start_time": "2023-09-26T14:50:05.833Z"
   },
   {
    "duration": 106,
    "start_time": "2023-09-26T14:50:13.204Z"
   },
   {
    "duration": 3,
    "start_time": "2023-09-26T14:50:54.829Z"
   },
   {
    "duration": 8,
    "start_time": "2023-09-26T14:51:01.235Z"
   },
   {
    "duration": 4,
    "start_time": "2023-09-26T14:51:01.837Z"
   },
   {
    "duration": 7,
    "start_time": "2023-09-26T14:51:47.444Z"
   },
   {
    "duration": 4,
    "start_time": "2023-09-26T14:52:17.180Z"
   },
   {
    "duration": 4,
    "start_time": "2023-09-26T14:52:44.414Z"
   },
   {
    "duration": 6,
    "start_time": "2023-09-26T14:52:50.342Z"
   },
   {
    "duration": 4,
    "start_time": "2023-09-26T14:53:47.080Z"
   },
   {
    "duration": 4,
    "start_time": "2023-09-26T14:53:51.881Z"
   },
   {
    "duration": 5,
    "start_time": "2023-09-26T14:53:59.841Z"
   },
   {
    "duration": 176740,
    "start_time": "2023-09-26T15:00:01.250Z"
   },
   {
    "duration": 9,
    "start_time": "2023-09-26T15:02:57.992Z"
   },
   {
    "duration": 11,
    "start_time": "2023-09-26T15:04:26.684Z"
   },
   {
    "duration": 77,
    "start_time": "2023-09-26T15:07:23.531Z"
   },
   {
    "duration": 76,
    "start_time": "2023-09-26T15:07:27.758Z"
   },
   {
    "duration": 59919,
    "start_time": "2023-09-26T15:14:59.469Z"
   },
   {
    "duration": 1575,
    "start_time": "2023-09-26T15:15:59.390Z"
   },
   {
    "duration": 1721,
    "start_time": "2023-09-26T15:16:36.007Z"
   },
   {
    "duration": 1650,
    "start_time": "2023-09-26T15:16:50.483Z"
   },
   {
    "duration": 13164,
    "start_time": "2023-09-26T15:17:06.163Z"
   },
   {
    "duration": 1667,
    "start_time": "2023-09-26T15:17:29.453Z"
   },
   {
    "duration": 269,
    "start_time": "2023-09-26T15:30:02.329Z"
   },
   {
    "duration": 267,
    "start_time": "2023-09-26T15:30:10.862Z"
   },
   {
    "duration": 12778,
    "start_time": "2023-09-26T15:30:46.493Z"
   },
   {
    "duration": 243,
    "start_time": "2023-09-26T15:32:03.861Z"
   },
   {
    "duration": 4,
    "start_time": "2023-09-26T15:34:30.163Z"
   },
   {
    "duration": 4,
    "start_time": "2023-09-26T15:35:13.824Z"
   },
   {
    "duration": 9,
    "start_time": "2023-09-26T15:36:13.093Z"
   },
   {
    "duration": 4,
    "start_time": "2023-09-26T15:36:17.431Z"
   },
   {
    "duration": 276,
    "start_time": "2023-09-26T15:36:17.790Z"
   },
   {
    "duration": 290,
    "start_time": "2023-09-26T15:39:13.809Z"
   },
   {
    "duration": 131,
    "start_time": "2023-09-26T15:51:44.388Z"
   },
   {
    "duration": 314,
    "start_time": "2023-09-26T15:51:56.490Z"
   },
   {
    "duration": 317,
    "start_time": "2023-09-26T15:53:22.074Z"
   },
   {
    "duration": 3,
    "start_time": "2023-09-26T15:54:00.201Z"
   },
   {
    "duration": 305,
    "start_time": "2023-09-26T15:54:07.097Z"
   },
   {
    "duration": 307,
    "start_time": "2023-09-26T15:55:22.317Z"
   },
   {
    "duration": 344,
    "start_time": "2023-09-26T15:55:42.263Z"
   },
   {
    "duration": 329,
    "start_time": "2023-09-26T15:57:25.242Z"
   },
   {
    "duration": 285,
    "start_time": "2023-09-26T15:57:35.539Z"
   },
   {
    "duration": 360,
    "start_time": "2023-09-26T15:57:51.246Z"
   },
   {
    "duration": 347,
    "start_time": "2023-09-26T15:59:25.488Z"
   },
   {
    "duration": 348,
    "start_time": "2023-09-26T15:59:47.940Z"
   },
   {
    "duration": 318,
    "start_time": "2023-09-26T15:59:58.801Z"
   },
   {
    "duration": 315,
    "start_time": "2023-09-26T16:00:43.307Z"
   },
   {
    "duration": 321,
    "start_time": "2023-09-26T16:00:54.888Z"
   },
   {
    "duration": 301,
    "start_time": "2023-09-26T16:02:01.091Z"
   },
   {
    "duration": 284,
    "start_time": "2023-09-26T16:02:11.164Z"
   },
   {
    "duration": 324,
    "start_time": "2023-09-26T16:02:20.590Z"
   },
   {
    "duration": 277,
    "start_time": "2023-09-26T16:02:27.151Z"
   },
   {
    "duration": 10,
    "start_time": "2023-09-27T07:31:46.232Z"
   },
   {
    "duration": 9,
    "start_time": "2023-09-27T07:31:53.060Z"
   },
   {
    "duration": 10,
    "start_time": "2023-09-27T07:31:55.767Z"
   },
   {
    "duration": 10,
    "start_time": "2023-09-27T07:32:02.631Z"
   },
   {
    "duration": 273,
    "start_time": "2023-09-27T07:34:05.474Z"
   },
   {
    "duration": 290,
    "start_time": "2023-09-27T07:38:22.943Z"
   },
   {
    "duration": 291,
    "start_time": "2023-09-27T07:38:30.376Z"
   },
   {
    "duration": 270,
    "start_time": "2023-09-27T07:38:35.568Z"
   },
   {
    "duration": 281,
    "start_time": "2023-09-27T07:46:19.001Z"
   },
   {
    "duration": 217,
    "start_time": "2023-09-27T07:47:01.546Z"
   },
   {
    "duration": 288,
    "start_time": "2023-09-27T07:47:18.323Z"
   },
   {
    "duration": 289,
    "start_time": "2023-09-27T07:47:38.002Z"
   },
   {
    "duration": 294,
    "start_time": "2023-09-27T07:47:49.012Z"
   },
   {
    "duration": 280,
    "start_time": "2023-09-27T07:48:28.092Z"
   },
   {
    "duration": 312,
    "start_time": "2023-09-27T07:49:27.421Z"
   },
   {
    "duration": 310,
    "start_time": "2023-09-27T07:50:40.808Z"
   },
   {
    "duration": 323,
    "start_time": "2023-09-27T07:50:51.496Z"
   },
   {
    "duration": 310,
    "start_time": "2023-09-27T07:50:59.384Z"
   },
   {
    "duration": 339,
    "start_time": "2023-09-27T07:51:03.335Z"
   },
   {
    "duration": 320,
    "start_time": "2023-09-27T07:54:16.923Z"
   },
   {
    "duration": 310,
    "start_time": "2023-09-27T07:54:59.709Z"
   },
   {
    "duration": 286,
    "start_time": "2023-09-27T07:55:07.798Z"
   },
   {
    "duration": 241,
    "start_time": "2023-09-27T07:56:08.516Z"
   },
   {
    "duration": 292,
    "start_time": "2023-09-27T07:56:15.550Z"
   },
   {
    "duration": 230,
    "start_time": "2023-09-27T07:56:41.671Z"
   },
   {
    "duration": 5,
    "start_time": "2023-09-27T07:56:43.270Z"
   },
   {
    "duration": 297,
    "start_time": "2023-09-27T07:56:43.655Z"
   },
   {
    "duration": 296,
    "start_time": "2023-09-27T07:57:46.928Z"
   },
   {
    "duration": 5,
    "start_time": "2023-09-27T07:58:25.728Z"
   },
   {
    "duration": 13,
    "start_time": "2023-09-27T07:58:35.231Z"
   },
   {
    "duration": 5,
    "start_time": "2023-09-27T08:02:41.989Z"
   },
   {
    "duration": 14,
    "start_time": "2023-09-27T10:00:09.224Z"
   },
   {
    "duration": 432,
    "start_time": "2023-09-27T10:00:30.742Z"
   },
   {
    "duration": 11943,
    "start_time": "2023-09-27T10:00:39.503Z"
   },
   {
    "duration": 40,
    "start_time": "2023-09-27T10:00:51.447Z"
   },
   {
    "duration": 0,
    "start_time": "2023-09-27T10:00:51.489Z"
   },
   {
    "duration": 21,
    "start_time": "2023-09-27T10:02:04.849Z"
   },
   {
    "duration": 81,
    "start_time": "2023-09-27T10:03:13.419Z"
   },
   {
    "duration": 89,
    "start_time": "2023-09-27T10:03:31.363Z"
   },
   {
    "duration": 145,
    "start_time": "2023-09-27T10:03:32.354Z"
   },
   {
    "duration": 19,
    "start_time": "2023-09-27T10:03:40.610Z"
   },
   {
    "duration": 116,
    "start_time": "2023-09-27T10:03:42.611Z"
   },
   {
    "duration": 93,
    "start_time": "2023-09-27T10:04:14.000Z"
   },
   {
    "duration": 126,
    "start_time": "2023-09-27T10:04:15.245Z"
   },
   {
    "duration": 161,
    "start_time": "2023-09-27T10:04:28.620Z"
   },
   {
    "duration": 161,
    "start_time": "2023-09-27T10:04:38.900Z"
   },
   {
    "duration": 165,
    "start_time": "2023-09-27T10:04:45.717Z"
   },
   {
    "duration": 176,
    "start_time": "2023-09-27T10:05:05.125Z"
   },
   {
    "duration": 164,
    "start_time": "2023-09-27T10:05:12.741Z"
   },
   {
    "duration": 85,
    "start_time": "2023-09-27T10:05:43.270Z"
   },
   {
    "duration": 78,
    "start_time": "2023-09-27T10:06:31.751Z"
   },
   {
    "duration": 78,
    "start_time": "2023-09-27T10:06:35.991Z"
   },
   {
    "duration": 84,
    "start_time": "2023-09-27T10:07:04.456Z"
   },
   {
    "duration": 172,
    "start_time": "2023-09-27T10:07:10.977Z"
   },
   {
    "duration": 3,
    "start_time": "2023-09-27T10:10:34.676Z"
   },
   {
    "duration": 3,
    "start_time": "2023-09-27T10:10:50.661Z"
   },
   {
    "duration": 82,
    "start_time": "2023-09-27T10:11:27.893Z"
   },
   {
    "duration": 258,
    "start_time": "2023-09-27T10:11:29.822Z"
   },
   {
    "duration": 7272,
    "start_time": "2023-09-27T10:11:33.189Z"
   },
   {
    "duration": 7580,
    "start_time": "2023-09-27T10:12:12.175Z"
   },
   {
    "duration": 31,
    "start_time": "2023-09-27T10:12:34.743Z"
   },
   {
    "duration": 182,
    "start_time": "2023-09-27T10:12:35.350Z"
   },
   {
    "duration": 453,
    "start_time": "2023-09-27T10:12:40.470Z"
   },
   {
    "duration": 418,
    "start_time": "2023-09-27T10:12:57.472Z"
   },
   {
    "duration": 398,
    "start_time": "2023-09-27T10:13:11.231Z"
   },
   {
    "duration": 9,
    "start_time": "2023-09-27T10:13:31.712Z"
   },
   {
    "duration": 534,
    "start_time": "2023-09-27T10:13:34.688Z"
   },
   {
    "duration": 359,
    "start_time": "2023-09-27T10:13:37.680Z"
   },
   {
    "duration": 82,
    "start_time": "2023-09-27T10:13:42.008Z"
   },
   {
    "duration": 171,
    "start_time": "2023-09-27T10:13:42.512Z"
   },
   {
    "duration": 375,
    "start_time": "2023-09-27T10:13:43.360Z"
   },
   {
    "duration": 831,
    "start_time": "2023-09-27T10:13:46.896Z"
   },
   {
    "duration": 733,
    "start_time": "2023-09-27T10:13:57.113Z"
   },
   {
    "duration": 1480,
    "start_time": "2023-09-27T10:14:03.345Z"
   },
   {
    "duration": 758,
    "start_time": "2023-09-27T10:14:08.609Z"
   },
   {
    "duration": 933,
    "start_time": "2023-09-27T10:14:20.609Z"
   },
   {
    "duration": 780,
    "start_time": "2023-09-27T10:14:27.625Z"
   },
   {
    "duration": 12,
    "start_time": "2023-09-27T10:15:20.275Z"
   },
   {
    "duration": 102,
    "start_time": "2023-09-27T10:15:31.914Z"
   },
   {
    "duration": 13,
    "start_time": "2023-09-27T10:16:00.789Z"
   },
   {
    "duration": 80,
    "start_time": "2023-09-27T10:16:27.300Z"
   },
   {
    "duration": 82,
    "start_time": "2023-09-27T10:17:44.149Z"
   },
   {
    "duration": 79,
    "start_time": "2023-09-27T10:18:06.696Z"
   },
   {
    "duration": 759,
    "start_time": "2023-09-27T10:18:16.190Z"
   },
   {
    "duration": 777,
    "start_time": "2023-09-27T10:18:22.551Z"
   },
   {
    "duration": 12411,
    "start_time": "2023-09-27T10:20:20.649Z"
   },
   {
    "duration": 13397,
    "start_time": "2023-09-27T10:22:39.252Z"
   },
   {
    "duration": 182,
    "start_time": "2023-09-27T10:23:21.797Z"
   },
   {
    "duration": 13428,
    "start_time": "2023-09-27T10:24:17.103Z"
   },
   {
    "duration": 13279,
    "start_time": "2023-09-27T10:24:55.919Z"
   },
   {
    "duration": 13610,
    "start_time": "2023-09-27T10:25:45.561Z"
   },
   {
    "duration": 212,
    "start_time": "2023-09-27T10:26:01.968Z"
   },
   {
    "duration": 111,
    "start_time": "2023-09-27T10:26:29.496Z"
   },
   {
    "duration": 1723,
    "start_time": "2023-09-27T10:28:04.731Z"
   },
   {
    "duration": 1697,
    "start_time": "2023-09-27T10:28:23.156Z"
   },
   {
    "duration": 156,
    "start_time": "2023-09-27T10:28:39.379Z"
   },
   {
    "duration": 169,
    "start_time": "2023-09-27T10:29:05.917Z"
   },
   {
    "duration": 1326,
    "start_time": "2023-09-27T10:35:59.207Z"
   },
   {
    "duration": 30,
    "start_time": "2023-09-27T10:36:00.535Z"
   },
   {
    "duration": 91,
    "start_time": "2023-09-27T10:36:00.567Z"
   },
   {
    "duration": 71,
    "start_time": "2023-09-27T10:36:00.660Z"
   },
   {
    "duration": 90,
    "start_time": "2023-09-27T10:36:00.733Z"
   },
   {
    "duration": 47,
    "start_time": "2023-09-27T10:36:00.825Z"
   },
   {
    "duration": 52,
    "start_time": "2023-09-27T10:36:00.874Z"
   },
   {
    "duration": 52,
    "start_time": "2023-09-27T10:36:00.928Z"
   },
   {
    "duration": 58,
    "start_time": "2023-09-27T10:36:00.982Z"
   },
   {
    "duration": 49,
    "start_time": "2023-09-27T10:36:01.043Z"
   },
   {
    "duration": 111,
    "start_time": "2023-09-27T10:36:01.093Z"
   },
   {
    "duration": 193,
    "start_time": "2023-09-27T10:36:01.206Z"
   },
   {
    "duration": 33,
    "start_time": "2023-09-27T10:36:01.400Z"
   },
   {
    "duration": 34,
    "start_time": "2023-09-27T10:36:01.435Z"
   },
   {
    "duration": 34,
    "start_time": "2023-09-27T10:36:01.471Z"
   },
   {
    "duration": 33,
    "start_time": "2023-09-27T10:36:01.507Z"
   },
   {
    "duration": 22,
    "start_time": "2023-09-27T10:36:01.542Z"
   },
   {
    "duration": 41,
    "start_time": "2023-09-27T10:36:01.565Z"
   },
   {
    "duration": 39,
    "start_time": "2023-09-27T10:36:01.608Z"
   },
   {
    "duration": 120,
    "start_time": "2023-09-27T10:36:01.648Z"
   },
   {
    "duration": 37,
    "start_time": "2023-09-27T10:36:01.770Z"
   },
   {
    "duration": 102,
    "start_time": "2023-09-27T10:36:01.809Z"
   },
   {
    "duration": 194,
    "start_time": "2023-09-27T10:36:01.913Z"
   },
   {
    "duration": 809,
    "start_time": "2023-09-27T10:36:02.109Z"
   },
   {
    "duration": 13379,
    "start_time": "2023-09-27T10:36:02.920Z"
   },
   {
    "duration": 203,
    "start_time": "2023-09-27T10:36:16.301Z"
   },
   {
    "duration": 119,
    "start_time": "2023-09-27T10:36:16.506Z"
   },
   {
    "duration": 0,
    "start_time": "2023-09-27T10:36:16.627Z"
   },
   {
    "duration": 0,
    "start_time": "2023-09-27T10:36:16.628Z"
   },
   {
    "duration": 0,
    "start_time": "2023-09-27T10:36:16.629Z"
   },
   {
    "duration": 0,
    "start_time": "2023-09-27T10:36:16.630Z"
   },
   {
    "duration": 0,
    "start_time": "2023-09-27T10:36:16.631Z"
   },
   {
    "duration": 0,
    "start_time": "2023-09-27T10:36:16.632Z"
   },
   {
    "duration": 1592,
    "start_time": "2023-09-27T10:36:39.887Z"
   },
   {
    "duration": 172,
    "start_time": "2023-09-27T10:36:45.750Z"
   },
   {
    "duration": 235,
    "start_time": "2023-09-27T10:36:48.430Z"
   },
   {
    "duration": 4,
    "start_time": "2023-09-27T10:36:49.926Z"
   },
   {
    "duration": 274,
    "start_time": "2023-09-27T10:36:50.342Z"
   },
   {
    "duration": 339,
    "start_time": "2023-09-27T10:37:02.535Z"
   },
   {
    "duration": 262,
    "start_time": "2023-09-27T10:37:09.599Z"
   },
   {
    "duration": 5,
    "start_time": "2023-09-27T10:37:11.223Z"
   },
   {
    "duration": 10,
    "start_time": "2023-09-27T10:37:13.479Z"
   },
   {
    "duration": 1361,
    "start_time": "2023-09-27T10:39:00.038Z"
   },
   {
    "duration": 30,
    "start_time": "2023-09-27T10:39:01.401Z"
   },
   {
    "duration": 131,
    "start_time": "2023-09-27T10:39:01.433Z"
   },
   {
    "duration": 87,
    "start_time": "2023-09-27T10:39:01.566Z"
   },
   {
    "duration": 60,
    "start_time": "2023-09-27T10:39:01.655Z"
   },
   {
    "duration": 242,
    "start_time": "2023-09-27T10:39:01.716Z"
   },
   {
    "duration": 58,
    "start_time": "2023-09-27T10:39:01.960Z"
   },
   {
    "duration": 48,
    "start_time": "2023-09-27T10:39:02.019Z"
   },
   {
    "duration": 27,
    "start_time": "2023-09-27T10:39:02.068Z"
   },
   {
    "duration": 34,
    "start_time": "2023-09-27T10:39:02.097Z"
   },
   {
    "duration": 20,
    "start_time": "2023-09-27T10:39:02.133Z"
   },
   {
    "duration": 13,
    "start_time": "2023-09-27T10:39:02.155Z"
   },
   {
    "duration": 18,
    "start_time": "2023-09-27T10:39:02.170Z"
   },
   {
    "duration": 25,
    "start_time": "2023-09-27T10:39:02.190Z"
   },
   {
    "duration": 16,
    "start_time": "2023-09-27T10:39:02.216Z"
   },
   {
    "duration": 27,
    "start_time": "2023-09-27T10:39:02.234Z"
   },
   {
    "duration": 37,
    "start_time": "2023-09-27T10:39:02.263Z"
   },
   {
    "duration": 18,
    "start_time": "2023-09-27T10:39:02.301Z"
   },
   {
    "duration": 17,
    "start_time": "2023-09-27T10:39:02.322Z"
   },
   {
    "duration": 5,
    "start_time": "2023-09-27T10:39:02.341Z"
   },
   {
    "duration": 7,
    "start_time": "2023-09-27T10:39:02.348Z"
   },
   {
    "duration": 100,
    "start_time": "2023-09-27T10:39:02.356Z"
   },
   {
    "duration": 190,
    "start_time": "2023-09-27T10:39:02.458Z"
   },
   {
    "duration": 789,
    "start_time": "2023-09-27T10:39:02.649Z"
   },
   {
    "duration": 13513,
    "start_time": "2023-09-27T10:39:03.439Z"
   },
   {
    "duration": 232,
    "start_time": "2023-09-27T10:39:16.955Z"
   },
   {
    "duration": 1711,
    "start_time": "2023-09-27T10:39:17.188Z"
   },
   {
    "duration": 187,
    "start_time": "2023-09-27T10:39:18.901Z"
   },
   {
    "duration": 245,
    "start_time": "2023-09-27T10:39:19.090Z"
   },
   {
    "duration": 8,
    "start_time": "2023-09-27T10:39:19.337Z"
   },
   {
    "duration": 283,
    "start_time": "2023-09-27T10:39:19.347Z"
   },
   {
    "duration": 14,
    "start_time": "2023-09-27T10:39:19.632Z"
   },
   {
    "duration": 11,
    "start_time": "2023-09-27T10:39:19.647Z"
   },
   {
    "duration": 3114,
    "start_time": "2023-09-27T15:38:05.007Z"
   },
   {
    "duration": 30,
    "start_time": "2023-09-27T15:38:08.123Z"
   },
   {
    "duration": 11,
    "start_time": "2023-09-27T15:38:08.155Z"
   },
   {
    "duration": 17,
    "start_time": "2023-09-27T15:38:08.168Z"
   },
   {
    "duration": 6,
    "start_time": "2023-09-27T15:38:08.187Z"
   },
   {
    "duration": 6,
    "start_time": "2023-09-27T15:38:08.194Z"
   },
   {
    "duration": 14,
    "start_time": "2023-09-27T15:38:08.202Z"
   },
   {
    "duration": 36,
    "start_time": "2023-09-27T15:38:08.218Z"
   },
   {
    "duration": 9,
    "start_time": "2023-09-27T15:38:08.255Z"
   },
   {
    "duration": 22,
    "start_time": "2023-09-27T15:38:08.267Z"
   },
   {
    "duration": 34,
    "start_time": "2023-09-27T15:38:08.291Z"
   },
   {
    "duration": 5,
    "start_time": "2023-09-27T15:38:08.327Z"
   },
   {
    "duration": 11,
    "start_time": "2023-09-27T15:38:08.334Z"
   },
   {
    "duration": 14,
    "start_time": "2023-09-27T15:38:08.347Z"
   },
   {
    "duration": 7,
    "start_time": "2023-09-27T15:38:08.362Z"
   },
   {
    "duration": 9,
    "start_time": "2023-09-27T15:38:08.371Z"
   },
   {
    "duration": 14,
    "start_time": "2023-09-27T15:38:08.381Z"
   },
   {
    "duration": 46,
    "start_time": "2023-09-27T15:38:08.396Z"
   },
   {
    "duration": 28,
    "start_time": "2023-09-27T15:38:08.443Z"
   },
   {
    "duration": 23,
    "start_time": "2023-09-27T15:38:08.473Z"
   },
   {
    "duration": 19,
    "start_time": "2023-09-27T15:38:08.498Z"
   },
   {
    "duration": 92,
    "start_time": "2023-09-27T15:38:08.519Z"
   },
   {
    "duration": 204,
    "start_time": "2023-09-27T15:38:08.613Z"
   },
   {
    "duration": 774,
    "start_time": "2023-09-27T15:38:08.819Z"
   },
   {
    "duration": 13951,
    "start_time": "2023-09-27T15:38:09.595Z"
   },
   {
    "duration": 197,
    "start_time": "2023-09-27T15:38:23.547Z"
   },
   {
    "duration": 1786,
    "start_time": "2023-09-27T15:38:23.746Z"
   },
   {
    "duration": 158,
    "start_time": "2023-09-27T15:38:25.544Z"
   },
   {
    "duration": 223,
    "start_time": "2023-09-27T15:38:25.704Z"
   },
   {
    "duration": 4,
    "start_time": "2023-09-27T15:38:25.929Z"
   },
   {
    "duration": 276,
    "start_time": "2023-09-27T15:38:25.934Z"
   },
   {
    "duration": 5,
    "start_time": "2023-09-27T15:38:26.211Z"
   },
   {
    "duration": 34,
    "start_time": "2023-09-27T15:38:26.218Z"
   },
   {
    "duration": 45,
    "start_time": "2023-09-28T07:05:56.850Z"
   },
   {
    "duration": 1591,
    "start_time": "2023-09-28T07:06:03.552Z"
   },
   {
    "duration": 123,
    "start_time": "2023-09-28T07:06:05.145Z"
   },
   {
    "duration": 16,
    "start_time": "2023-09-28T07:06:05.269Z"
   },
   {
    "duration": 45,
    "start_time": "2023-09-28T07:06:05.287Z"
   },
   {
    "duration": 135,
    "start_time": "2023-09-28T07:06:05.335Z"
   },
   {
    "duration": 69,
    "start_time": "2023-09-28T07:06:05.471Z"
   },
   {
    "duration": 63,
    "start_time": "2023-09-28T07:06:05.542Z"
   },
   {
    "duration": 70,
    "start_time": "2023-09-28T07:06:05.606Z"
   },
   {
    "duration": 39,
    "start_time": "2023-09-28T07:06:05.678Z"
   },
   {
    "duration": 55,
    "start_time": "2023-09-28T07:06:05.719Z"
   },
   {
    "duration": 58,
    "start_time": "2023-09-28T07:06:05.776Z"
   },
   {
    "duration": 46,
    "start_time": "2023-09-28T07:06:05.836Z"
   },
   {
    "duration": 120,
    "start_time": "2023-09-28T07:06:05.885Z"
   },
   {
    "duration": 43,
    "start_time": "2023-09-28T07:06:06.008Z"
   },
   {
    "duration": 54,
    "start_time": "2023-09-28T07:06:06.053Z"
   },
   {
    "duration": 42,
    "start_time": "2023-09-28T07:06:06.109Z"
   },
   {
    "duration": 34,
    "start_time": "2023-09-28T07:06:06.154Z"
   },
   {
    "duration": 40,
    "start_time": "2023-09-28T07:06:06.190Z"
   },
   {
    "duration": 27,
    "start_time": "2023-09-28T07:06:06.233Z"
   },
   {
    "duration": 52,
    "start_time": "2023-09-28T07:06:06.262Z"
   },
   {
    "duration": 36,
    "start_time": "2023-09-28T07:06:06.316Z"
   },
   {
    "duration": 107,
    "start_time": "2023-09-28T07:06:06.354Z"
   },
   {
    "duration": 223,
    "start_time": "2023-09-28T07:06:06.462Z"
   },
   {
    "duration": 882,
    "start_time": "2023-09-28T07:06:06.687Z"
   },
   {
    "duration": 890,
    "start_time": "2023-09-28T07:06:08.202Z"
   },
   {
    "duration": 956,
    "start_time": "2023-09-28T07:06:09.095Z"
   },
   {
    "duration": 251,
    "start_time": "2023-09-28T07:14:03.013Z"
   },
   {
    "duration": 132,
    "start_time": "2023-09-28T07:14:24.392Z"
   },
   {
    "duration": 141,
    "start_time": "2023-09-28T07:14:44.877Z"
   },
   {
    "duration": 160,
    "start_time": "2023-09-28T07:14:49.433Z"
   },
   {
    "duration": 140,
    "start_time": "2023-09-28T07:31:15.195Z"
   },
   {
    "duration": 116,
    "start_time": "2023-09-28T07:31:25.148Z"
   },
   {
    "duration": 170,
    "start_time": "2023-09-28T07:31:36.803Z"
   },
   {
    "duration": 170,
    "start_time": "2023-09-28T07:32:16.216Z"
   },
   {
    "duration": 86,
    "start_time": "2023-09-28T07:41:44.473Z"
   },
   {
    "duration": 140,
    "start_time": "2023-09-28T07:41:49.937Z"
   },
   {
    "duration": 165,
    "start_time": "2023-09-28T07:41:59.561Z"
   },
   {
    "duration": 12,
    "start_time": "2023-09-28T07:47:53.304Z"
   },
   {
    "duration": 11,
    "start_time": "2023-09-28T07:48:01.625Z"
   },
   {
    "duration": 11,
    "start_time": "2023-09-28T07:48:12.721Z"
   },
   {
    "duration": 112,
    "start_time": "2023-09-28T07:50:16.571Z"
   },
   {
    "duration": 176,
    "start_time": "2023-09-28T07:50:36.549Z"
   },
   {
    "duration": 116,
    "start_time": "2023-09-28T07:50:48.053Z"
   },
   {
    "duration": 101,
    "start_time": "2023-09-28T07:51:05.526Z"
   },
   {
    "duration": 422,
    "start_time": "2023-09-28T07:53:15.288Z"
   },
   {
    "duration": 345,
    "start_time": "2023-09-28T07:53:24.824Z"
   },
   {
    "duration": 431,
    "start_time": "2023-09-28T07:54:01.738Z"
   },
   {
    "duration": 472,
    "start_time": "2023-09-28T07:54:29.801Z"
   },
   {
    "duration": 545,
    "start_time": "2023-09-28T07:54:35.825Z"
   },
   {
    "duration": 754,
    "start_time": "2023-09-28T07:56:13.955Z"
   },
   {
    "duration": 297,
    "start_time": "2023-09-28T07:56:27.164Z"
   },
   {
    "duration": 776,
    "start_time": "2023-09-28T07:56:36.286Z"
   },
   {
    "duration": 628,
    "start_time": "2023-09-28T07:56:50.780Z"
   },
   {
    "duration": 657,
    "start_time": "2023-09-28T07:58:40.278Z"
   },
   {
    "duration": 845,
    "start_time": "2023-09-28T07:58:45.422Z"
   },
   {
    "duration": 671,
    "start_time": "2023-09-28T07:58:51.582Z"
   },
   {
    "duration": 664,
    "start_time": "2023-09-28T07:58:59.958Z"
   },
   {
    "duration": 650,
    "start_time": "2023-09-28T07:59:18.712Z"
   },
   {
    "duration": 4,
    "start_time": "2023-09-28T08:00:25.672Z"
   },
   {
    "duration": 13,
    "start_time": "2023-09-28T08:02:11.532Z"
   },
   {
    "duration": 14678,
    "start_time": "2023-09-28T08:02:17.100Z"
   },
   {
    "duration": 4,
    "start_time": "2023-09-28T08:02:35.603Z"
   },
   {
    "duration": 2767,
    "start_time": "2023-09-28T08:02:38.643Z"
   },
   {
    "duration": 14423,
    "start_time": "2023-09-28T08:03:21.445Z"
   },
   {
    "duration": 3,
    "start_time": "2023-09-28T08:03:35.870Z"
   },
   {
    "duration": 604,
    "start_time": "2023-09-28T08:03:38.797Z"
   },
   {
    "duration": 14690,
    "start_time": "2023-09-28T08:03:58.998Z"
   },
   {
    "duration": 3,
    "start_time": "2023-09-28T08:04:13.689Z"
   },
   {
    "duration": 969,
    "start_time": "2023-09-28T08:04:16.022Z"
   },
   {
    "duration": 807,
    "start_time": "2023-09-28T08:05:12.102Z"
   },
   {
    "duration": 13426,
    "start_time": "2023-09-28T08:09:47.461Z"
   },
   {
    "duration": 3,
    "start_time": "2023-09-28T08:10:00.889Z"
   },
   {
    "duration": 2912,
    "start_time": "2023-09-28T08:10:11.117Z"
   },
   {
    "duration": 1098,
    "start_time": "2023-09-28T08:10:29.333Z"
   },
   {
    "duration": 1118,
    "start_time": "2023-09-28T08:10:37.269Z"
   },
   {
    "duration": 1218,
    "start_time": "2023-09-28T08:10:48.335Z"
   },
   {
    "duration": 1230,
    "start_time": "2023-09-28T08:10:58.925Z"
   },
   {
    "duration": 1740,
    "start_time": "2023-09-28T08:11:05.951Z"
   },
   {
    "duration": 2269,
    "start_time": "2023-09-28T08:13:53.362Z"
   },
   {
    "duration": 32611,
    "start_time": "2023-09-28T08:14:27.218Z"
   },
   {
    "duration": 1314,
    "start_time": "2023-09-28T08:16:06.086Z"
   },
   {
    "duration": 2778,
    "start_time": "2023-09-28T08:16:15.838Z"
   },
   {
    "duration": 3271,
    "start_time": "2023-09-28T08:16:28.750Z"
   },
   {
    "duration": 3625,
    "start_time": "2023-09-28T08:17:38.719Z"
   },
   {
    "duration": 214,
    "start_time": "2023-09-28T08:20:15.971Z"
   },
   {
    "duration": 13,
    "start_time": "2023-09-28T08:21:45.093Z"
   },
   {
    "duration": 948,
    "start_time": "2023-09-28T08:21:58.724Z"
   },
   {
    "duration": 868,
    "start_time": "2023-09-28T08:22:29.653Z"
   },
   {
    "duration": 1169,
    "start_time": "2023-09-28T08:22:41.726Z"
   },
   {
    "duration": 911,
    "start_time": "2023-09-28T08:23:00.024Z"
   },
   {
    "duration": 844,
    "start_time": "2023-09-28T08:24:19.079Z"
   },
   {
    "duration": 942,
    "start_time": "2023-09-28T08:25:37.026Z"
   },
   {
    "duration": 828,
    "start_time": "2023-09-28T08:25:52.786Z"
   },
   {
    "duration": 11,
    "start_time": "2023-09-28T08:27:06.587Z"
   },
   {
    "duration": 5,
    "start_time": "2023-09-28T08:27:10.171Z"
   },
   {
    "duration": 272,
    "start_time": "2023-09-28T08:27:10.659Z"
   },
   {
    "duration": 5,
    "start_time": "2023-09-28T08:28:10.285Z"
   },
   {
    "duration": 283,
    "start_time": "2023-09-28T08:29:25.111Z"
   },
   {
    "duration": 482,
    "start_time": "2023-09-28T08:29:37.511Z"
   },
   {
    "duration": 1530,
    "start_time": "2023-09-28T08:38:16.221Z"
   },
   {
    "duration": 32,
    "start_time": "2023-09-28T08:38:17.753Z"
   },
   {
    "duration": 65,
    "start_time": "2023-09-28T08:38:17.787Z"
   },
   {
    "duration": 64,
    "start_time": "2023-09-28T08:38:17.854Z"
   },
   {
    "duration": 18,
    "start_time": "2023-09-28T08:38:17.920Z"
   },
   {
    "duration": 41,
    "start_time": "2023-09-28T08:38:17.940Z"
   },
   {
    "duration": 34,
    "start_time": "2023-09-28T08:38:17.983Z"
   },
   {
    "duration": 40,
    "start_time": "2023-09-28T08:38:18.018Z"
   },
   {
    "duration": 14,
    "start_time": "2023-09-28T08:38:18.060Z"
   },
   {
    "duration": 62,
    "start_time": "2023-09-28T08:38:18.076Z"
   },
   {
    "duration": 57,
    "start_time": "2023-09-28T08:38:18.140Z"
   },
   {
    "duration": 24,
    "start_time": "2023-09-28T08:38:18.198Z"
   },
   {
    "duration": 42,
    "start_time": "2023-09-28T08:38:18.223Z"
   },
   {
    "duration": 33,
    "start_time": "2023-09-28T08:38:18.268Z"
   },
   {
    "duration": 17,
    "start_time": "2023-09-28T08:38:18.302Z"
   },
   {
    "duration": 33,
    "start_time": "2023-09-28T08:38:18.320Z"
   },
   {
    "duration": 32,
    "start_time": "2023-09-28T08:38:18.354Z"
   },
   {
    "duration": 29,
    "start_time": "2023-09-28T08:38:18.387Z"
   },
   {
    "duration": 90,
    "start_time": "2023-09-28T08:38:18.418Z"
   },
   {
    "duration": 272,
    "start_time": "2023-09-28T08:38:18.510Z"
   },
   {
    "duration": 178,
    "start_time": "2023-09-28T08:38:18.783Z"
   },
   {
    "duration": 94,
    "start_time": "2023-09-28T08:38:18.963Z"
   },
   {
    "duration": 208,
    "start_time": "2023-09-28T08:38:19.059Z"
   },
   {
    "duration": 820,
    "start_time": "2023-09-28T08:38:19.268Z"
   },
   {
    "duration": 803,
    "start_time": "2023-09-28T08:38:20.090Z"
   },
   {
    "duration": 13634,
    "start_time": "2023-09-28T08:38:20.895Z"
   },
   {
    "duration": 3,
    "start_time": "2023-09-28T08:38:34.530Z"
   },
   {
    "duration": 1727,
    "start_time": "2023-09-28T08:38:34.535Z"
   },
   {
    "duration": 889,
    "start_time": "2023-09-28T08:38:36.263Z"
   },
   {
    "duration": 916,
    "start_time": "2023-09-28T08:38:37.154Z"
   },
   {
    "duration": 1694,
    "start_time": "2023-09-28T08:38:38.071Z"
   },
   {
    "duration": 183,
    "start_time": "2023-09-28T08:38:39.767Z"
   },
   {
    "duration": 228,
    "start_time": "2023-09-28T08:38:39.951Z"
   },
   {
    "duration": 5,
    "start_time": "2023-09-28T08:38:40.180Z"
   },
   {
    "duration": 503,
    "start_time": "2023-09-28T08:38:40.187Z"
   },
   {
    "duration": 5,
    "start_time": "2023-09-28T08:38:40.692Z"
   },
   {
    "duration": 23,
    "start_time": "2023-09-28T08:38:40.699Z"
   }
  ],
  "kernelspec": {
   "display_name": "Python 3 (ipykernel)",
   "language": "python",
   "name": "python3"
  },
  "language_info": {
   "codemirror_mode": {
    "name": "ipython",
    "version": 3
   },
   "file_extension": ".py",
   "mimetype": "text/x-python",
   "name": "python",
   "nbconvert_exporter": "python",
   "pygments_lexer": "ipython3",
   "version": "3.9.13"
  },
  "toc": {
   "base_numbering": 1,
   "nav_menu": {},
   "number_sections": true,
   "sideBar": true,
   "skip_h1_title": true,
   "title_cell": "Table of Contents",
   "title_sidebar": "Contents",
   "toc_cell": false,
   "toc_position": {},
   "toc_section_display": true,
   "toc_window_display": false
  }
 },
 "nbformat": 4,
 "nbformat_minor": 2
}
